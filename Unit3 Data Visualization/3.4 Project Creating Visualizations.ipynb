{
 "cells": [
  {
   "cell_type": "markdown",
   "metadata": {},
   "source": [
    "![title](http://cdn.ttgtmedia.com/rms/computerweekly/160939707%20data%20visualisation.jpg) "
   ]
  },
  {
   "cell_type": "markdown",
   "metadata": {},
   "source": [
    "For this project, you'll have two options:\n",
    "\n",
    "- Go back to one of the two previous projects and build visualizations about them.\n",
    "\n",
    "- Find your own dataset to which you would like to build some visualizations!\n",
    "\n",
    "Any one you choose is up to you, so get creative and build some interesting stuff. You are also not limited to the plots that we've seen so far, you could also try building some geolocation (spatial) plots, or sunburts or treemaps. Then, for each visualization create some analysis of the story that the visualization is presenting.  This project will basically be a full on Exploratory Data Analysis (or EDA). If you need help finding some datasets, I've got your back: https://www.kaggle.com/datasets\n",
    "\n",
    "Now, go crazy below, adding the cells and analysis you want. Remember, to add markdown cells like this one, you need to select markdown instead of code on the upper dropdown menu of Jupyter."
   ]
  },
  {
   "cell_type": "code",
   "execution_count": null,
   "metadata": {
    "collapsed": true
   },
   "outputs": [],
   "source": []
  }
 ],
 "metadata": {
  "kernelspec": {
   "display_name": "Python 3",
   "language": "python",
   "name": "python3"
  },
  "language_info": {
   "codemirror_mode": {
    "name": "ipython",
    "version": 3
   },
   "file_extension": ".py",
   "mimetype": "text/x-python",
   "name": "python",
   "nbconvert_exporter": "python",
   "pygments_lexer": "ipython3",
   "version": "3.6.0"
  }
 },
 "nbformat": 4,
 "nbformat_minor": 2
}
