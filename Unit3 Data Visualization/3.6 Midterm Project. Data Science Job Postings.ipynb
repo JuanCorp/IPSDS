{
 "cells": [
  {
   "cell_type": "markdown",
   "metadata": {},
   "source": [
    "![title](http://www.kdnuggets.com/images/2015-top-stories-word-cloud.jpg) "
   ]
  },
  {
   "cell_type": "markdown",
   "metadata": {},
   "source": [
    "In this mid term project, you'll apply all that you've learned until now unto an useful project for yourself. Imagine you woke up one day, and decided to look for some jobs postings in Data Science.  However, since there's so much demand, there's just too many of them to analyze! So you decided to be one step above the rest, and create a pipeline that gets the job postings from various sites, groups them up in one dataframe, and then you decided to analyze which words are the most frequent or the most important in data science job postings. This way, you find which are the most wanted skills in a data scientist right now! Some tips:\n",
    "\n",
    "- Some sites with job postings include Indeed.com, Kaggle.com and glassdoor.com \n",
    "\n",
    "- You may need to create a function for scraping each site if you choose more than one!\n",
    "\n",
    "- Try cleaning the text you find, and removing stopwords, words that have no analytical value, from them. This may help: https://pythonprogramming.net/stop-words-nltk-tutorial/\n",
    "\n",
    "- This can help with word counts: http://scikit-learn.org/stable/modules/generated/sklearn.feature_extraction.text.CountVectorizer.html. Alternatively, you can create your own function that gets word counts using a dictionary and some for loops.\n",
    "\n",
    "- This can help with word importance or TF-IDF: http://scikit-learn.org/stable/modules/generated/sklearn.feature_extraction.text.TfidfVectorizer.html.\n",
    "\n",
    "- Create some visualizations that help describe your results!\n",
    "\n",
    "- Write a short analysis on the results as well as on every step that you take towards achieving the results.\n",
    "\n",
    "- If you get stuck, don't be afraid to Google. \n",
    "\n",
    "Best of luck!"
   ]
  },
  {
   "cell_type": "code",
   "execution_count": null,
   "metadata": {
    "collapsed": true
   },
   "outputs": [],
   "source": []
  }
 ],
 "metadata": {
  "kernelspec": {
   "display_name": "Python 3",
   "language": "python",
   "name": "python3"
  },
  "language_info": {
   "codemirror_mode": {
    "name": "ipython",
    "version": 3
   },
   "file_extension": ".py",
   "mimetype": "text/x-python",
   "name": "python",
   "nbconvert_exporter": "python",
   "pygments_lexer": "ipython3",
   "version": "3.6.0"
  }
 },
 "nbformat": 4,
 "nbformat_minor": 2
}
