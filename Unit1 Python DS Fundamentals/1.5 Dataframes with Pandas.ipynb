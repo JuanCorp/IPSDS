{
 "cells": [
  {
   "cell_type": "markdown",
   "metadata": {},
   "source": [
    "![title](http://www.pragso.com/content/images/2016/07/pandas_logo-3.png)"
   ]
  },
  {
   "cell_type": "markdown",
   "metadata": {},
   "source": [
    "(Not exactly a Panda but w/e). In the Data Science world,  a lot of data comes organized neatly in tables, like those you might see on Excel files.  Python has a convenient way of working with tabular data like this, and that's with the Pandas library. This library will be like your bread and butter, you'll have to have it in your blood, you need to eat this Panda every day, and hopefully it doesn't go extinct. Now, how is data in Pandas represented? \n",
    "\n",
    "Let's suppose you have a table about some of your friends, which includes their name, age, month of birth and gender, kinda like this: \n",
    "\n",
    "![title](https://sarahleejane.github.io/assets/simple_table_df.png)"
   ]
  },
  {
   "cell_type": "markdown",
   "metadata": {},
   "source": [
    "Now let's go over the parts of a dataframe. \n",
    "\n",
    "- The Birth Month, Origin, Age and Gender are the **Columns** of the dataframe. They are the real world meaning of the data that is in the dataframe cell. \n",
    "\n",
    "- Carly Rachel Nicky Wendy and Judith are the **Rows** of the dataframe. Now here's an interesting case. In this dataframe, the names are the **index** of the dataframe,  or the names of the rows. The index of a dataframe is an unique value that makes each row different. Since the names are unique, we can set them as the index of the dataframe. By default, dataframes have a row index similar to that of a list, going from 0 to the number of rows N.\n",
    "\n",
    "- January, UK, 27, F, etc. are the **Values** of the dataframe. They represent the intersection of the Column and the Row. For example, the value of the Column Origin in the row Wendy is Italy. \n",
    "\n",
    "Let's create this dataframe right here right now, by using a dictionary as a base."
   ]
  },
  {
   "cell_type": "code",
   "execution_count": 118,
   "metadata": {
    "collapsed": true
   },
   "outputs": [],
   "source": [
    "#Always make sure to import your libraries kids!\n",
    "import pandas as pd"
   ]
  },
  {
   "cell_type": "code",
   "execution_count": 119,
   "metadata": {
    "collapsed": false
   },
   "outputs": [
    {
     "name": "stdout",
     "output_type": "stream",
     "text": [
      "   Age Birth Month Gender   Names   Origin\n",
      "0   27     January      f   Carly       UK\n",
      "1   28   September      f  Rachel    Spain\n",
      "2   28   September      f   Nicky  Jamaica\n",
      "3   22    November      f   Wendy    Italy\n",
      "4   19    February      f  Judith   France\n"
     ]
    },
    {
     "data": {
      "text/html": [
       "<div>\n",
       "<table border=\"1\" class=\"dataframe\">\n",
       "  <thead>\n",
       "    <tr style=\"text-align: right;\">\n",
       "      <th></th>\n",
       "      <th>Age</th>\n",
       "      <th>Birth Month</th>\n",
       "      <th>Gender</th>\n",
       "      <th>Names</th>\n",
       "      <th>Origin</th>\n",
       "    </tr>\n",
       "  </thead>\n",
       "  <tbody>\n",
       "    <tr>\n",
       "      <th>0</th>\n",
       "      <td>27</td>\n",
       "      <td>January</td>\n",
       "      <td>f</td>\n",
       "      <td>Carly</td>\n",
       "      <td>UK</td>\n",
       "    </tr>\n",
       "    <tr>\n",
       "      <th>1</th>\n",
       "      <td>28</td>\n",
       "      <td>September</td>\n",
       "      <td>f</td>\n",
       "      <td>Rachel</td>\n",
       "      <td>Spain</td>\n",
       "    </tr>\n",
       "    <tr>\n",
       "      <th>2</th>\n",
       "      <td>28</td>\n",
       "      <td>September</td>\n",
       "      <td>f</td>\n",
       "      <td>Nicky</td>\n",
       "      <td>Jamaica</td>\n",
       "    </tr>\n",
       "    <tr>\n",
       "      <th>3</th>\n",
       "      <td>22</td>\n",
       "      <td>November</td>\n",
       "      <td>f</td>\n",
       "      <td>Wendy</td>\n",
       "      <td>Italy</td>\n",
       "    </tr>\n",
       "    <tr>\n",
       "      <th>4</th>\n",
       "      <td>19</td>\n",
       "      <td>February</td>\n",
       "      <td>f</td>\n",
       "      <td>Judith</td>\n",
       "      <td>France</td>\n",
       "    </tr>\n",
       "  </tbody>\n",
       "</table>\n",
       "</div>"
      ],
      "text/plain": [
       "   Age Birth Month Gender   Names   Origin\n",
       "0   27     January      f   Carly       UK\n",
       "1   28   September      f  Rachel    Spain\n",
       "2   28   September      f   Nicky  Jamaica\n",
       "3   22    November      f   Wendy    Italy\n",
       "4   19    February      f  Judith   France"
      ]
     },
     "execution_count": 119,
     "metadata": {},
     "output_type": "execute_result"
    }
   ],
   "source": [
    "#Create the values of the dataframe\n",
    "Names = [\"Carly\",\"Rachel\",\"Nicky\",\"Wendy\",\"Judith\"]\n",
    "Birth_Month = [\"January\",\"September\",\"September\",\"November\",\"February\"]\n",
    "Origin = [\"UK\",\"Spain\",\"Jamaica\",\"Italy\",\"France\"]\n",
    "Age = [27,28,28,22,19]\n",
    "Gender = [\"f\",\"f\",\"f\",\"f\",\"f\"]\n",
    "\n",
    "#Create the dictionary that we will turn into the dataframe.\n",
    "Friends = {\"Names\":Names,\"Birth Month\":Birth_Month,\n",
    "           \"Origin\":Origin, \"Age\":Age,\"Gender\":Gender}\n",
    "\n",
    "#Create the dataframe, by converting the dictionary to a dataframe using pd.Dataframe()\n",
    "Friends_Dataframe = pd.DataFrame(Friends)\n",
    "\n",
    "#In Jupyter notebooks, it's better to just name the dataframe at the end of the cell, since it creates a much better\n",
    "#looking table. Let's compare using print, and just naming the dataframe at the end.\n",
    "print(Friends_Dataframe)\n",
    "Friends_Dataframe"
   ]
  },
  {
   "cell_type": "markdown",
   "metadata": {},
   "source": [
    "Much better looking, right? But hang on, there's still something wrong. We have numbered indexes instead of the names. We can fix that really easily by using the built in function of the dataframe, **set_index()**"
   ]
  },
  {
   "cell_type": "code",
   "execution_count": 120,
   "metadata": {
    "collapsed": false
   },
   "outputs": [
    {
     "data": {
      "text/html": [
       "<div>\n",
       "<table border=\"1\" class=\"dataframe\">\n",
       "  <thead>\n",
       "    <tr style=\"text-align: right;\">\n",
       "      <th></th>\n",
       "      <th>Age</th>\n",
       "      <th>Birth Month</th>\n",
       "      <th>Gender</th>\n",
       "      <th>Origin</th>\n",
       "    </tr>\n",
       "    <tr>\n",
       "      <th>Names</th>\n",
       "      <th></th>\n",
       "      <th></th>\n",
       "      <th></th>\n",
       "      <th></th>\n",
       "    </tr>\n",
       "  </thead>\n",
       "  <tbody>\n",
       "    <tr>\n",
       "      <th>Carly</th>\n",
       "      <td>27</td>\n",
       "      <td>January</td>\n",
       "      <td>f</td>\n",
       "      <td>UK</td>\n",
       "    </tr>\n",
       "    <tr>\n",
       "      <th>Rachel</th>\n",
       "      <td>28</td>\n",
       "      <td>September</td>\n",
       "      <td>f</td>\n",
       "      <td>Spain</td>\n",
       "    </tr>\n",
       "    <tr>\n",
       "      <th>Nicky</th>\n",
       "      <td>28</td>\n",
       "      <td>September</td>\n",
       "      <td>f</td>\n",
       "      <td>Jamaica</td>\n",
       "    </tr>\n",
       "    <tr>\n",
       "      <th>Wendy</th>\n",
       "      <td>22</td>\n",
       "      <td>November</td>\n",
       "      <td>f</td>\n",
       "      <td>Italy</td>\n",
       "    </tr>\n",
       "    <tr>\n",
       "      <th>Judith</th>\n",
       "      <td>19</td>\n",
       "      <td>February</td>\n",
       "      <td>f</td>\n",
       "      <td>France</td>\n",
       "    </tr>\n",
       "  </tbody>\n",
       "</table>\n",
       "</div>"
      ],
      "text/plain": [
       "        Age Birth Month Gender   Origin\n",
       "Names                                  \n",
       "Carly    27     January      f       UK\n",
       "Rachel   28   September      f    Spain\n",
       "Nicky    28   September      f  Jamaica\n",
       "Wendy    22    November      f    Italy\n",
       "Judith   19    February      f   France"
      ]
     },
     "execution_count": 120,
     "metadata": {},
     "output_type": "execute_result"
    }
   ],
   "source": [
    "#Replace the old dataframe with this new one that has names as the index.\n",
    "Friends_Dataframe = Friends_Dataframe.set_index(\"Names\")\n",
    "Friends_Dataframe"
   ]
  },
  {
   "cell_type": "markdown",
   "metadata": {},
   "source": [
    "But this still doesn't look right. The names are just having an empty row all for themselves, those greedy bastards. But we can also fix that by doing this:"
   ]
  },
  {
   "cell_type": "code",
   "execution_count": 121,
   "metadata": {
    "collapsed": false
   },
   "outputs": [
    {
     "data": {
      "text/html": [
       "<div>\n",
       "<table border=\"1\" class=\"dataframe\">\n",
       "  <thead>\n",
       "    <tr style=\"text-align: right;\">\n",
       "      <th></th>\n",
       "      <th>Age</th>\n",
       "      <th>Birth Month</th>\n",
       "      <th>Gender</th>\n",
       "      <th>Origin</th>\n",
       "    </tr>\n",
       "  </thead>\n",
       "  <tbody>\n",
       "    <tr>\n",
       "      <th>Carly</th>\n",
       "      <td>27</td>\n",
       "      <td>January</td>\n",
       "      <td>f</td>\n",
       "      <td>UK</td>\n",
       "    </tr>\n",
       "    <tr>\n",
       "      <th>Rachel</th>\n",
       "      <td>28</td>\n",
       "      <td>September</td>\n",
       "      <td>f</td>\n",
       "      <td>Spain</td>\n",
       "    </tr>\n",
       "    <tr>\n",
       "      <th>Nicky</th>\n",
       "      <td>28</td>\n",
       "      <td>September</td>\n",
       "      <td>f</td>\n",
       "      <td>Jamaica</td>\n",
       "    </tr>\n",
       "    <tr>\n",
       "      <th>Wendy</th>\n",
       "      <td>22</td>\n",
       "      <td>November</td>\n",
       "      <td>f</td>\n",
       "      <td>Italy</td>\n",
       "    </tr>\n",
       "    <tr>\n",
       "      <th>Judith</th>\n",
       "      <td>19</td>\n",
       "      <td>February</td>\n",
       "      <td>f</td>\n",
       "      <td>France</td>\n",
       "    </tr>\n",
       "  </tbody>\n",
       "</table>\n",
       "</div>"
      ],
      "text/plain": [
       "        Age Birth Month Gender   Origin\n",
       "Carly    27     January      f       UK\n",
       "Rachel   28   September      f    Spain\n",
       "Nicky    28   September      f  Jamaica\n",
       "Wendy    22    November      f    Italy\n",
       "Judith   19    February      f   France"
      ]
     },
     "execution_count": 121,
     "metadata": {},
     "output_type": "execute_result"
    }
   ],
   "source": [
    "#Delete the name of the index.\n",
    "\n",
    "del Friends_Dataframe.index.name\n",
    "Friends_Dataframe"
   ]
  },
  {
   "cell_type": "markdown",
   "metadata": {},
   "source": [
    "There we go, this looks way better. \n",
    "\n",
    "#### Now your turn. \n",
    "\n",
    "Create your own dataframe with 5 or more of your friends, and put them in the Myfriends_Dataframe. You can use any columns you want. You'll work with this dataframe for the rest of the exercises."
   ]
  },
  {
   "cell_type": "code",
   "execution_count": 122,
   "metadata": {
    "collapsed": true
   },
   "outputs": [],
   "source": [
    "#Your code here\n",
    "Myfriends_Dataframe = \" \""
   ]
  },
  {
   "cell_type": "markdown",
   "metadata": {},
   "source": [
    "## Accessing data on a Dataframe"
   ]
  },
  {
   "cell_type": "markdown",
   "metadata": {},
   "source": [
    "So far so good, you know how to create a dataframe. But what can you do after you create it? One thing we can do, is look at a single column to see their values. For example, let's look at the origins of the friends."
   ]
  },
  {
   "cell_type": "code",
   "execution_count": 123,
   "metadata": {
    "collapsed": false
   },
   "outputs": [
    {
     "data": {
      "text/plain": [
       "Carly          UK\n",
       "Rachel      Spain\n",
       "Nicky     Jamaica\n",
       "Wendy       Italy\n",
       "Judith     France\n",
       "Name: Origin, dtype: object"
      ]
     },
     "execution_count": 123,
     "metadata": {},
     "output_type": "execute_result"
    }
   ],
   "source": [
    "Friends_Dataframe.Origin"
   ]
  },
  {
   "cell_type": "markdown",
   "metadata": {},
   "source": [
    "We can see the country of origin for each person , as well as the name of the person in the index.  Why is this? That's because when you call a Column of a dataframe like this, the resulting object is something called a **Series**. A series is like a dataframe, but it only includes the index and the value of the column. We can perform some of the same operations we do on dataframes with series, but we'll see more of that later. If you need the values of the column themselves, you first have to convert the Series to a list, like so:"
   ]
  },
  {
   "cell_type": "code",
   "execution_count": 124,
   "metadata": {
    "collapsed": false
   },
   "outputs": [
    {
     "data": {
      "text/plain": [
       "['UK', 'Spain', 'Jamaica', 'Italy', 'France']"
      ]
     },
     "execution_count": 124,
     "metadata": {},
     "output_type": "execute_result"
    }
   ],
   "source": [
    "countries = list(Friends_Dataframe.Origin)\n",
    "countries"
   ]
  },
  {
   "cell_type": "markdown",
   "metadata": {},
   "source": [
    "And now we have a list of strings with the countries of our dataframe. Now let's do the same, but for the months. "
   ]
  },
  {
   "cell_type": "code",
   "execution_count": 125,
   "metadata": {
    "collapsed": false
   },
   "outputs": [
    {
     "data": {
      "text/plain": [
       "['January', 'September', 'September', 'November', 'February']"
      ]
     },
     "execution_count": 125,
     "metadata": {},
     "output_type": "execute_result"
    }
   ],
   "source": [
    "#Another way to access a column in a dataframe, in case the name of the column is separated by spaces.\n",
    "list(Friends_Dataframe[\"Birth Month\"])"
   ]
  },
  {
   "cell_type": "markdown",
   "metadata": {},
   "source": [
    "That's nice and all, but some months are repeated. To get all the unique values on a dataframe column, we can use the built in unique() function, which returns only the unique values of the column."
   ]
  },
  {
   "cell_type": "code",
   "execution_count": 126,
   "metadata": {
    "collapsed": false
   },
   "outputs": [
    {
     "data": {
      "text/plain": [
       "['January', 'September', 'November', 'February']"
      ]
     },
     "execution_count": 126,
     "metadata": {},
     "output_type": "execute_result"
    }
   ],
   "source": [
    "list(Friends_Dataframe[\"Birth Month\"].unique())"
   ]
  },
  {
   "cell_type": "markdown",
   "metadata": {},
   "source": [
    "We can also select various columns in one go. "
   ]
  },
  {
   "cell_type": "code",
   "execution_count": 127,
   "metadata": {
    "collapsed": false
   },
   "outputs": [
    {
     "data": {
      "text/html": [
       "<div>\n",
       "<table border=\"1\" class=\"dataframe\">\n",
       "  <thead>\n",
       "    <tr style=\"text-align: right;\">\n",
       "      <th></th>\n",
       "      <th>Age</th>\n",
       "      <th>Gender</th>\n",
       "    </tr>\n",
       "  </thead>\n",
       "  <tbody>\n",
       "    <tr>\n",
       "      <th>Carly</th>\n",
       "      <td>27</td>\n",
       "      <td>f</td>\n",
       "    </tr>\n",
       "    <tr>\n",
       "      <th>Rachel</th>\n",
       "      <td>28</td>\n",
       "      <td>f</td>\n",
       "    </tr>\n",
       "    <tr>\n",
       "      <th>Nicky</th>\n",
       "      <td>28</td>\n",
       "      <td>f</td>\n",
       "    </tr>\n",
       "    <tr>\n",
       "      <th>Wendy</th>\n",
       "      <td>22</td>\n",
       "      <td>f</td>\n",
       "    </tr>\n",
       "    <tr>\n",
       "      <th>Judith</th>\n",
       "      <td>19</td>\n",
       "      <td>f</td>\n",
       "    </tr>\n",
       "  </tbody>\n",
       "</table>\n",
       "</div>"
      ],
      "text/plain": [
       "        Age Gender\n",
       "Carly    27      f\n",
       "Rachel   28      f\n",
       "Nicky    28      f\n",
       "Wendy    22      f\n",
       "Judith   19      f"
      ]
     },
     "execution_count": 127,
     "metadata": {},
     "output_type": "execute_result"
    }
   ],
   "source": [
    "Columns = [\"Age\",\"Gender\"]\n",
    "Friends_Dataframe[Columns]"
   ]
  },
  {
   "cell_type": "markdown",
   "metadata": {},
   "source": [
    "And,just like with numpy arrays, we can subset by rows."
   ]
  },
  {
   "cell_type": "code",
   "execution_count": 128,
   "metadata": {
    "collapsed": false
   },
   "outputs": [
    {
     "data": {
      "text/html": [
       "<div>\n",
       "<table border=\"1\" class=\"dataframe\">\n",
       "  <thead>\n",
       "    <tr style=\"text-align: right;\">\n",
       "      <th></th>\n",
       "      <th>Age</th>\n",
       "      <th>Birth Month</th>\n",
       "      <th>Gender</th>\n",
       "      <th>Origin</th>\n",
       "    </tr>\n",
       "  </thead>\n",
       "  <tbody>\n",
       "    <tr>\n",
       "      <th>Carly</th>\n",
       "      <td>27</td>\n",
       "      <td>January</td>\n",
       "      <td>f</td>\n",
       "      <td>UK</td>\n",
       "    </tr>\n",
       "    <tr>\n",
       "      <th>Rachel</th>\n",
       "      <td>28</td>\n",
       "      <td>September</td>\n",
       "      <td>f</td>\n",
       "      <td>Spain</td>\n",
       "    </tr>\n",
       "    <tr>\n",
       "      <th>Nicky</th>\n",
       "      <td>28</td>\n",
       "      <td>September</td>\n",
       "      <td>f</td>\n",
       "      <td>Jamaica</td>\n",
       "    </tr>\n",
       "  </tbody>\n",
       "</table>\n",
       "</div>"
      ],
      "text/plain": [
       "        Age Birth Month Gender   Origin\n",
       "Carly    27     January      f       UK\n",
       "Rachel   28   September      f    Spain\n",
       "Nicky    28   September      f  Jamaica"
      ]
     },
     "execution_count": 128,
     "metadata": {},
     "output_type": "execute_result"
    }
   ],
   "source": [
    "#Gets the rows before the third row.\n",
    "Friends_Dataframe[:3]"
   ]
  },
  {
   "cell_type": "markdown",
   "metadata": {},
   "source": [
    "#### Now your turn.\n",
    "With the Myfriends dataframe you created early,  do 2 subsets my columns, one with unique values, and one without unique values. Do a subset with rows as well. Try to do a subset of rows and columns. Is it possible?"
   ]
  },
  {
   "cell_type": "code",
   "execution_count": 129,
   "metadata": {
    "collapsed": true
   },
   "outputs": [],
   "source": [
    "#Your code here"
   ]
  },
  {
   "cell_type": "markdown",
   "metadata": {},
   "source": [
    "## Operations with dataframes."
   ]
  },
  {
   "cell_type": "markdown",
   "metadata": {},
   "source": [
    "Operations in pandas dataframes are best done **column-based**. That is, you first take a column, apply an operation, and then reassign that column to its new value. This can be done all on the same line, or by first setting a variable with the result and then replacing it."
   ]
  },
  {
   "cell_type": "code",
   "execution_count": 130,
   "metadata": {
    "collapsed": false
   },
   "outputs": [
    {
     "name": "stdout",
     "output_type": "stream",
     "text": [
      "Carly     5.196152\n",
      "Rachel    5.291503\n",
      "Nicky     5.291503\n",
      "Wendy     4.690416\n",
      "Judith    4.358899\n",
      "Name: Age, dtype: float64\n",
      "Carly     27.0\n",
      "Rachel    28.0\n",
      "Nicky     28.0\n",
      "Wendy     22.0\n",
      "Judith    19.0\n",
      "Name: Age, dtype: float64\n"
     ]
    }
   ],
   "source": [
    "\n",
    "import numpy as np\n",
    "#all on the same line.\n",
    "Friends_Dataframe.Age = Friends_Dataframe.Age.apply(np.sqrt)\n",
    "print(Friends_Dataframe.Age)\n",
    "\n",
    "#Setting a variable with the new value, then replacing the old one.\n",
    "Squared_Age = Friends_Dataframe.Age.apply(np.square)\n",
    "Friends_Dataframe.Age = Squared_Age\n",
    "print(Friends_Dataframe.Age)"
   ]
  },
  {
   "cell_type": "markdown",
   "metadata": {},
   "source": [
    "**Be very careful when replacing columns in a dataframe**.  Once you change them in the original dataframe, unless you got the previous value stored somewhere, the only way to go back is to recreate the original dataframe, and apply all the steps you have done before on it. \n",
    "\n",
    "You can also use apply to apply custom functions, and **lambda** functions to a column."
   ]
  },
  {
   "cell_type": "code",
   "execution_count": 131,
   "metadata": {
    "collapsed": false
   },
   "outputs": [
    {
     "name": "stdout",
     "output_type": "stream",
     "text": [
      "Carly     F\n",
      "Rachel    F\n",
      "Nicky     F\n",
      "Wendy     F\n",
      "Judith    F\n",
      "Name: Gender, dtype: object\n",
      "Carly       january\n",
      "Rachel    september\n",
      "Nicky     september\n",
      "Wendy      november\n",
      "Judith     february\n",
      "Name: Birth Month, dtype: object\n"
     ]
    }
   ],
   "source": [
    "#Custom Function.\n",
    "def All_Caps(string):\n",
    "    return string.upper()\n",
    "\n",
    "Friends_Dataframe.Gender = Friends_Dataframe.Gender.apply(All_Caps)\n",
    "print(Friends_Dataframe.Gender)\n",
    "\n",
    "#Lambda function\n",
    "Friends_Dataframe[\"Birth Month\"] = Friends_Dataframe[\"Birth Month\"].apply(lambda month: month.lower())\n",
    "print(Friends_Dataframe[\"Birth Month\"])"
   ]
  },
  {
   "cell_type": "markdown",
   "metadata": {},
   "source": [
    "Lambda functions are really useful in the way that they allow us to set a function in a variable. Like this:"
   ]
  },
  {
   "cell_type": "code",
   "execution_count": 132,
   "metadata": {
    "collapsed": false
   },
   "outputs": [
    {
     "name": "stdout",
     "output_type": "stream",
     "text": [
      "Carly     22.0\n",
      "Rachel    23.0\n",
      "Nicky     23.0\n",
      "Wendy     17.0\n",
      "Judith    14.0\n",
      "Name: Age, dtype: float64\n"
     ]
    }
   ],
   "source": [
    "Minus_5 = lambda number: number - 5 #number being the variable being passed to the function and number-5 is the function itself.\n",
    "\n",
    "print(Friends_Dataframe.Age.apply(Minus_5))"
   ]
  },
  {
   "cell_type": "markdown",
   "metadata": {},
   "source": [
    "Lambda functions are another way of working with Series and data like this. Feel free to mess around with them.  One more useful function is the **groupby** function, which creates a new dataframe, but with the grouped columns combined. Let's see this in action by grouping the friends by their birth month."
   ]
  },
  {
   "cell_type": "markdown",
   "metadata": {},
   "source": [
    "### Adding  Rows and Columns\n",
    "Adding rows and columns in a dataframe follow a simple rule. If adding a new column, the column must contain the same number of elements as there are rows in the dataframe. Example:"
   ]
  },
  {
   "cell_type": "code",
   "execution_count": 133,
   "metadata": {
    "collapsed": false
   },
   "outputs": [
    {
     "data": {
      "text/html": [
       "<div>\n",
       "<table border=\"1\" class=\"dataframe\">\n",
       "  <thead>\n",
       "    <tr style=\"text-align: right;\">\n",
       "      <th></th>\n",
       "      <th>Age</th>\n",
       "      <th>Birth Month</th>\n",
       "      <th>Gender</th>\n",
       "      <th>Origin</th>\n",
       "      <th>Education</th>\n",
       "    </tr>\n",
       "  </thead>\n",
       "  <tbody>\n",
       "    <tr>\n",
       "      <th>Carly</th>\n",
       "      <td>27.0</td>\n",
       "      <td>january</td>\n",
       "      <td>F</td>\n",
       "      <td>UK</td>\n",
       "      <td>Ms</td>\n",
       "    </tr>\n",
       "    <tr>\n",
       "      <th>Rachel</th>\n",
       "      <td>28.0</td>\n",
       "      <td>september</td>\n",
       "      <td>F</td>\n",
       "      <td>Spain</td>\n",
       "      <td>Ms</td>\n",
       "    </tr>\n",
       "    <tr>\n",
       "      <th>Nicky</th>\n",
       "      <td>28.0</td>\n",
       "      <td>september</td>\n",
       "      <td>F</td>\n",
       "      <td>Jamaica</td>\n",
       "      <td>PhD</td>\n",
       "    </tr>\n",
       "    <tr>\n",
       "      <th>Wendy</th>\n",
       "      <td>22.0</td>\n",
       "      <td>november</td>\n",
       "      <td>F</td>\n",
       "      <td>Italy</td>\n",
       "      <td>Bs</td>\n",
       "    </tr>\n",
       "    <tr>\n",
       "      <th>Judith</th>\n",
       "      <td>19.0</td>\n",
       "      <td>february</td>\n",
       "      <td>F</td>\n",
       "      <td>France</td>\n",
       "      <td>Hs</td>\n",
       "    </tr>\n",
       "  </tbody>\n",
       "</table>\n",
       "</div>"
      ],
      "text/plain": [
       "         Age Birth Month Gender   Origin Education\n",
       "Carly   27.0     january      F       UK        Ms\n",
       "Rachel  28.0   september      F    Spain        Ms\n",
       "Nicky   28.0   september      F  Jamaica       PhD\n",
       "Wendy   22.0    november      F    Italy        Bs\n",
       "Judith  19.0    february      F   France        Hs"
      ]
     },
     "execution_count": 133,
     "metadata": {},
     "output_type": "execute_result"
    }
   ],
   "source": [
    "##To add a new column to a dataframe is like adding a new Key:Value in a dictionary.\n",
    "Education = [\"Ms\",\"Ms\",\"PhD\",\"Bs\",\"Hs\"] #Level of education list.\n",
    "Friends_Dataframe[\"Education\"] = Education\n",
    "Friends_Dataframe"
   ]
  },
  {
   "cell_type": "markdown",
   "metadata": {},
   "source": [
    "To add a new row, the row must contain the same number of elements as there are columns in the dataframe, including the index. First, you need to create a dictionary (as if creating a new dataframe) and then convert it to a pandas Series, and finally append it to the dataframe.  If you are trying to combine two dataframes together, you can simply append them straight away, provided they have the same columns."
   ]
  },
  {
   "cell_type": "code",
   "execution_count": 134,
   "metadata": {
    "collapsed": false
   },
   "outputs": [
    {
     "data": {
      "text/html": [
       "<div>\n",
       "<table border=\"1\" class=\"dataframe\">\n",
       "  <thead>\n",
       "    <tr style=\"text-align: right;\">\n",
       "      <th></th>\n",
       "      <th>Age</th>\n",
       "      <th>Birth Month</th>\n",
       "      <th>Gender</th>\n",
       "      <th>Origin</th>\n",
       "      <th>Education</th>\n",
       "    </tr>\n",
       "  </thead>\n",
       "  <tbody>\n",
       "    <tr>\n",
       "      <th>Carly</th>\n",
       "      <td>27.0</td>\n",
       "      <td>january</td>\n",
       "      <td>F</td>\n",
       "      <td>UK</td>\n",
       "      <td>Ms</td>\n",
       "    </tr>\n",
       "    <tr>\n",
       "      <th>Rachel</th>\n",
       "      <td>28.0</td>\n",
       "      <td>september</td>\n",
       "      <td>F</td>\n",
       "      <td>Spain</td>\n",
       "      <td>Ms</td>\n",
       "    </tr>\n",
       "    <tr>\n",
       "      <th>Nicky</th>\n",
       "      <td>28.0</td>\n",
       "      <td>september</td>\n",
       "      <td>F</td>\n",
       "      <td>Jamaica</td>\n",
       "      <td>PhD</td>\n",
       "    </tr>\n",
       "    <tr>\n",
       "      <th>Wendy</th>\n",
       "      <td>22.0</td>\n",
       "      <td>november</td>\n",
       "      <td>F</td>\n",
       "      <td>Italy</td>\n",
       "      <td>Bs</td>\n",
       "    </tr>\n",
       "    <tr>\n",
       "      <th>Judith</th>\n",
       "      <td>19.0</td>\n",
       "      <td>february</td>\n",
       "      <td>F</td>\n",
       "      <td>France</td>\n",
       "      <td>Hs</td>\n",
       "    </tr>\n",
       "    <tr>\n",
       "      <th>James</th>\n",
       "      <td>25.0</td>\n",
       "      <td>july</td>\n",
       "      <td>M</td>\n",
       "      <td>USA</td>\n",
       "      <td>Bs</td>\n",
       "    </tr>\n",
       "  </tbody>\n",
       "</table>\n",
       "</div>"
      ],
      "text/plain": [
       "         Age Birth Month Gender   Origin Education\n",
       "Carly   27.0     january      F       UK        Ms\n",
       "Rachel  28.0   september      F    Spain        Ms\n",
       "Nicky   28.0   september      F  Jamaica       PhD\n",
       "Wendy   22.0    november      F    Italy        Bs\n",
       "Judith  19.0    february      F   France        Hs\n",
       "James   25.0        july      M      USA        Bs"
      ]
     },
     "execution_count": 134,
     "metadata": {},
     "output_type": "execute_result"
    }
   ],
   "source": [
    "James = {\"Age\":25.0,\n",
    "         \"Birth Month\":\"july\",\"Gender\":\"M\",\n",
    "         \"Origin\":\"USA\",\"Education\":\"Bs\"}\n",
    "#Add him to the dataframe.\n",
    "Friends_Dataframe = Friends_Dataframe.append(pd.Series(James,name=\"James\"))\n",
    "Friends_Dataframe"
   ]
  },
  {
   "cell_type": "markdown",
   "metadata": {},
   "source": [
    "Another useful function is the groupby function, which creates a sub-dataframe, with the data grouped by the column and function you selected. If this seems complicated here's an example, grouping the friends by Gender, and getting the mean age. "
   ]
  },
  {
   "cell_type": "code",
   "execution_count": 137,
   "metadata": {
    "collapsed": false
   },
   "outputs": [
    {
     "data": {
      "text/html": [
       "<div>\n",
       "<table border=\"1\" class=\"dataframe\">\n",
       "  <thead>\n",
       "    <tr style=\"text-align: right;\">\n",
       "      <th></th>\n",
       "      <th>Age</th>\n",
       "    </tr>\n",
       "    <tr>\n",
       "      <th>Gender</th>\n",
       "      <th></th>\n",
       "    </tr>\n",
       "  </thead>\n",
       "  <tbody>\n",
       "    <tr>\n",
       "      <th>F</th>\n",
       "      <td>24.8</td>\n",
       "    </tr>\n",
       "    <tr>\n",
       "      <th>M</th>\n",
       "      <td>25.0</td>\n",
       "    </tr>\n",
       "  </tbody>\n",
       "</table>\n",
       "</div>"
      ],
      "text/plain": [
       "         Age\n",
       "Gender      \n",
       "F       24.8\n",
       "M       25.0"
      ]
     },
     "execution_count": 137,
     "metadata": {},
     "output_type": "execute_result"
    }
   ],
   "source": [
    "#First, we need to separate the columns, into numeric columns, and the label we are trying to group them by.\n",
    "#In this case, gender and age.\n",
    "Friends_Copy = Friends_Dataframe.copy() #Create a copy of our original friends dataframe.\n",
    "Friends_Copy = Friends_Copy.reset_index() #Reset the index back to generic numbers.\n",
    "\n",
    "Gender_And_Age = Friends_Copy[[\"Age\",\"Gender\"]]\n",
    "\n",
    "#Group by gender, and use the mean as the function.\n",
    "Grouped_byGender =  Gender_And_Age.groupby([\"Gender\"]).mean()\n",
    "Grouped_byGender.head()"
   ]
  },
  {
   "cell_type": "markdown",
   "metadata": {},
   "source": [
    "So the mean age for females is 24.8 and for males, since there's only one, 25.0.  "
   ]
  },
  {
   "cell_type": "markdown",
   "metadata": {},
   "source": [
    "#### Now your turn.\n",
    "Merge the friends dataframe and the dataframe of your friends into one. Create new columns if necessary! "
   ]
  },
  {
   "cell_type": "code",
   "execution_count": 138,
   "metadata": {
    "collapsed": true
   },
   "outputs": [],
   "source": [
    "#Your code here"
   ]
  },
  {
   "cell_type": "markdown",
   "metadata": {},
   "source": [
    "## Other useful things."
   ]
  },
  {
   "cell_type": "markdown",
   "metadata": {},
   "source": [
    "### Subsetting by a condition. \n",
    "In pandas, we can also select rows based on if certain values are true for a condition. For example, we can get all friends that were born in september like this:"
   ]
  },
  {
   "cell_type": "code",
   "execution_count": 139,
   "metadata": {
    "collapsed": false
   },
   "outputs": [
    {
     "data": {
      "text/html": [
       "<div>\n",
       "<table border=\"1\" class=\"dataframe\">\n",
       "  <thead>\n",
       "    <tr style=\"text-align: right;\">\n",
       "      <th></th>\n",
       "      <th>Age</th>\n",
       "      <th>Birth Month</th>\n",
       "      <th>Gender</th>\n",
       "      <th>Origin</th>\n",
       "      <th>Education</th>\n",
       "    </tr>\n",
       "  </thead>\n",
       "  <tbody>\n",
       "    <tr>\n",
       "      <th>Rachel</th>\n",
       "      <td>28.0</td>\n",
       "      <td>september</td>\n",
       "      <td>F</td>\n",
       "      <td>Spain</td>\n",
       "      <td>Ms</td>\n",
       "    </tr>\n",
       "    <tr>\n",
       "      <th>Nicky</th>\n",
       "      <td>28.0</td>\n",
       "      <td>september</td>\n",
       "      <td>F</td>\n",
       "      <td>Jamaica</td>\n",
       "      <td>PhD</td>\n",
       "    </tr>\n",
       "  </tbody>\n",
       "</table>\n",
       "</div>"
      ],
      "text/plain": [
       "         Age Birth Month Gender   Origin Education\n",
       "Rachel  28.0   september      F    Spain        Ms\n",
       "Nicky   28.0   september      F  Jamaica       PhD"
      ]
     },
     "execution_count": 139,
     "metadata": {},
     "output_type": "execute_result"
    }
   ],
   "source": [
    "#Use the loc function for dataframes to subset by a condition.\n",
    "SeptemberBorn = Friends_Dataframe.loc[Friends_Dataframe[\"Birth Month\"] == \"september\"]\n",
    "SeptemberBorn"
   ]
  },
  {
   "cell_type": "markdown",
   "metadata": {},
   "source": [
    "The same conditions that you would use in if statements apply here."
   ]
  },
  {
   "cell_type": "markdown",
   "metadata": {},
   "source": [
    "### Saving/Reading  a file.\n",
    "Pandas allows to save your dataframe to a file easily. A lot of the time, you'll be reading and writing from CSVs though. "
   ]
  },
  {
   "cell_type": "code",
   "execution_count": 144,
   "metadata": {
    "collapsed": false
   },
   "outputs": [
    {
     "data": {
      "text/html": [
       "<div>\n",
       "<table border=\"1\" class=\"dataframe\">\n",
       "  <thead>\n",
       "    <tr style=\"text-align: right;\">\n",
       "      <th></th>\n",
       "      <th>Age</th>\n",
       "      <th>Birth Month</th>\n",
       "      <th>Gender</th>\n",
       "      <th>Origin</th>\n",
       "      <th>Education</th>\n",
       "    </tr>\n",
       "  </thead>\n",
       "  <tbody>\n",
       "    <tr>\n",
       "      <th>Carly</th>\n",
       "      <td>27.0</td>\n",
       "      <td>january</td>\n",
       "      <td>F</td>\n",
       "      <td>UK</td>\n",
       "      <td>Ms</td>\n",
       "    </tr>\n",
       "    <tr>\n",
       "      <th>Rachel</th>\n",
       "      <td>28.0</td>\n",
       "      <td>september</td>\n",
       "      <td>F</td>\n",
       "      <td>Spain</td>\n",
       "      <td>Ms</td>\n",
       "    </tr>\n",
       "    <tr>\n",
       "      <th>Nicky</th>\n",
       "      <td>28.0</td>\n",
       "      <td>september</td>\n",
       "      <td>F</td>\n",
       "      <td>Jamaica</td>\n",
       "      <td>PhD</td>\n",
       "    </tr>\n",
       "    <tr>\n",
       "      <th>Wendy</th>\n",
       "      <td>22.0</td>\n",
       "      <td>november</td>\n",
       "      <td>F</td>\n",
       "      <td>Italy</td>\n",
       "      <td>Bs</td>\n",
       "    </tr>\n",
       "    <tr>\n",
       "      <th>Judith</th>\n",
       "      <td>19.0</td>\n",
       "      <td>february</td>\n",
       "      <td>F</td>\n",
       "      <td>France</td>\n",
       "      <td>Hs</td>\n",
       "    </tr>\n",
       "    <tr>\n",
       "      <th>James</th>\n",
       "      <td>25.0</td>\n",
       "      <td>july</td>\n",
       "      <td>M</td>\n",
       "      <td>USA</td>\n",
       "      <td>Bs</td>\n",
       "    </tr>\n",
       "  </tbody>\n",
       "</table>\n",
       "</div>"
      ],
      "text/plain": [
       "         Age Birth Month Gender   Origin Education\n",
       "Carly   27.0     january      F       UK        Ms\n",
       "Rachel  28.0   september      F    Spain        Ms\n",
       "Nicky   28.0   september      F  Jamaica       PhD\n",
       "Wendy   22.0    november      F    Italy        Bs\n",
       "Judith  19.0    february      F   France        Hs\n",
       "James   25.0        july      M      USA        Bs"
      ]
     },
     "execution_count": 144,
     "metadata": {},
     "output_type": "execute_result"
    }
   ],
   "source": [
    "#Save our dataframe.\n",
    "Friends_Dataframe.to_csv(\"Friends.csv\")\n",
    "\n",
    "#Reading what we saved. \n",
    "Read_Friends = pd.read_csv(\"Friends.csv\",index_col = 0) #Set index col to 0, so it sets the index to the names again.\n",
    "Read_Friends"
   ]
  },
  {
   "cell_type": "markdown",
   "metadata": {},
   "source": [
    "Remember to save your results if needed!"
   ]
  },
  {
   "cell_type": "markdown",
   "metadata": {},
   "source": [
    "## Exercise"
   ]
  },
  {
   "cell_type": "markdown",
   "metadata": {},
   "source": [
    "Read the olives.csv dataset and visualize the first 5 columns."
   ]
  },
  {
   "cell_type": "code",
   "execution_count": 146,
   "metadata": {
    "collapsed": true
   },
   "outputs": [],
   "source": [
    "#Your code here."
   ]
  },
  {
   "cell_type": "markdown",
   "metadata": {},
   "source": [
    "Rename the first column of the dataset."
   ]
  },
  {
   "cell_type": "code",
   "execution_count": 147,
   "metadata": {
    "collapsed": true
   },
   "outputs": [],
   "source": [
    "# Your code here."
   ]
  },
  {
   "cell_type": "markdown",
   "metadata": {},
   "source": [
    "Which unique regions and areas are contained in the dataset?"
   ]
  },
  {
   "cell_type": "code",
   "execution_count": 148,
   "metadata": {
    "collapsed": true
   },
   "outputs": [],
   "source": [
    "#Your code here."
   ]
  },
  {
   "cell_type": "markdown",
   "metadata": {},
   "source": [
    "Clean the dataset, if it needs cleaning."
   ]
  },
  {
   "cell_type": "code",
   "execution_count": 149,
   "metadata": {
    "collapsed": true
   },
   "outputs": [],
   "source": [
    "#Your code here."
   ]
  },
  {
   "cell_type": "markdown",
   "metadata": {},
   "source": [
    "Divide all numeric columns by 100, and group them by area string. You can use whatever function you want."
   ]
  },
  {
   "cell_type": "code",
   "execution_count": 150,
   "metadata": {
    "collapsed": true
   },
   "outputs": [],
   "source": [
    "#Your code here."
   ]
  },
  {
   "cell_type": "markdown",
   "metadata": {},
   "source": [
    "Save the dataset you so proudly cleaned and created."
   ]
  },
  {
   "cell_type": "code",
   "execution_count": 151,
   "metadata": {
    "collapsed": true
   },
   "outputs": [],
   "source": [
    "#Your code here."
   ]
  },
  {
   "cell_type": "markdown",
   "metadata": {},
   "source": [
    "## Further Reading"
   ]
  },
  {
   "cell_type": "markdown",
   "metadata": {},
   "source": [
    "Pandas documentation: http://pandas.pydata.org/pandas-docs/stable/index.html"
   ]
  }
 ],
 "metadata": {
  "kernelspec": {
   "display_name": "Python 3",
   "language": "python",
   "name": "python3"
  },
  "language_info": {
   "codemirror_mode": {
    "name": "ipython",
    "version": 3
   },
   "file_extension": ".py",
   "mimetype": "text/x-python",
   "name": "python",
   "nbconvert_exporter": "python",
   "pygments_lexer": "ipython3",
   "version": "3.6.0"
  }
 },
 "nbformat": 4,
 "nbformat_minor": 2
}
