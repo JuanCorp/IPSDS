{
 "cells": [
  {
   "cell_type": "markdown",
   "metadata": {},
   "source": [
    "![title](http://www.python-course.eu/images/attributes_and_methods.png)"
   ]
  },
  {
   "cell_type": "markdown",
   "metadata": {},
   "source": [
    "While not completely necessary when it comes to Data Science (that is, until you get to machine learning), classes play a huge role in programming in general. Originating from Object-Oriented Programming (OOP), classes are a way to represent objects or abstract real life things into code. \n",
    "\n",
    "For example, as the image above suggests, you have an account, and an account holder. The account holder has a surname, penname, address, profession and birthday as attributes that describe them. An account, has its holder, the account number, the credit line, the current balance, and the holder of the right of disposal. These are called the **attributes** of the class.  \n",
    "\n",
    "At the same time, in the green area, we have actions like Deposit, Withdrawal, Transfer and Standing Order. There are the **methods** of the class, which are the actions that a class can perform. \n",
    "\n",
    "From what you've seen so far, a good comparison would be that the attributes of the class are like its variables, while the methods are its functions. "
   ]
  },
  {
   "cell_type": "code",
   "execution_count": 12,
   "metadata": {
    "collapsed": false
   },
   "outputs": [],
   "source": [
    "#To create a class, first use the keyword class, followed by the name of the class.\n",
    "\n",
    "class Account:\n",
    "    #init method is the one that is called when you create an instance of the class.\n",
    "    def __init__(self,holder,number):\n",
    "        #Create and populate the attributes of the class.\n",
    "        self.holder = holder\n",
    "        self.number = number\n",
    "        #initial value of balance will be 0.0\n",
    "        self.balance = 0.0\n",
    "     \n",
    "    #Methods of the class. \n",
    "    #In python, you have to include self in the parameters of the method if you are going to use the parameters of the class.\n",
    "    def display(self):\n",
    "        print(self.holder + \" \" + str(self.number))\n",
    "    \n",
    "    def Withdrawal(self,amount):\n",
    "        if amount > self.balance:\n",
    "            print(\"You don't have enough cash bud.\")\n",
    "        else:\n",
    "            print(\"Previous balance: \"+ str(self.balance))\n",
    "            self.balance = self.balance - amount\n",
    "            print(\"New balance: \" + str(self.balance))\n",
    "            \n",
    "    def Deposit(self,amount):\n",
    "        self.balance = self.balance + amount\n",
    "        print(\"Balance is now \" + str(self.balance))\n",
    "    \n"
   ]
  },
  {
   "cell_type": "markdown",
   "metadata": {},
   "source": [
    "Now, let's create a new Account and populate it's attributes and test its methods."
   ]
  },
  {
   "cell_type": "code",
   "execution_count": 13,
   "metadata": {
    "collapsed": false
   },
   "outputs": [
    {
     "name": "stdout",
     "output_type": "stream",
     "text": [
      "Jimmy 1287291\n"
     ]
    }
   ],
   "source": [
    "#Create a new instance of the class, passing the name of the account holder and the account number.\n",
    "acc = Account(\"Jimmy\",1287291)\n",
    "\n",
    "acc.display()"
   ]
  },
  {
   "cell_type": "code",
   "execution_count": 14,
   "metadata": {
    "collapsed": false
   },
   "outputs": [
    {
     "name": "stdout",
     "output_type": "stream",
     "text": [
      "You don't have enough cash bud.\n"
     ]
    }
   ],
   "source": [
    "acc.Withdrawal(10.0)"
   ]
  },
  {
   "cell_type": "code",
   "execution_count": 15,
   "metadata": {
    "collapsed": false
   },
   "outputs": [
    {
     "name": "stdout",
     "output_type": "stream",
     "text": [
      "Balance is now 25.0\n"
     ]
    }
   ],
   "source": [
    "acc.Deposit(25.0)"
   ]
  },
  {
   "cell_type": "code",
   "execution_count": 16,
   "metadata": {
    "collapsed": false
   },
   "outputs": [
    {
     "name": "stdout",
     "output_type": "stream",
     "text": [
      "Previous balance: 25.0\n",
      "New balance: 15.0\n"
     ]
    }
   ],
   "source": [
    "acc.Withdrawal(10.0)"
   ]
  },
  {
   "cell_type": "markdown",
   "metadata": {},
   "source": [
    "As you can see, you don't have to assign the new value of the balance to another variable. The methods of the class already do this for you!\n",
    "\n",
    "Try creating the rest of the methods and attributes of the Account class. If you want an extra challenge, try creating the Account Holder class as well, and replace the string of the Account class with an Account Holder."
   ]
  },
  {
   "cell_type": "markdown",
   "metadata": {},
   "source": [
    "# Your code below:"
   ]
  },
  {
   "cell_type": "code",
   "execution_count": null,
   "metadata": {
    "collapsed": true
   },
   "outputs": [],
   "source": []
  }
 ],
 "metadata": {
  "kernelspec": {
   "display_name": "Python 3",
   "language": "python",
   "name": "python3"
  },
  "language_info": {
   "codemirror_mode": {
    "name": "ipython",
    "version": 3
   },
   "file_extension": ".py",
   "mimetype": "text/x-python",
   "name": "python",
   "nbconvert_exporter": "python",
   "pygments_lexer": "ipython3",
   "version": "3.6.0"
  }
 },
 "nbformat": 4,
 "nbformat_minor": 2
}
