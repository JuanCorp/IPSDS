{
 "cells": [
  {
   "cell_type": "markdown",
   "metadata": {},
   "source": [
    "# Conditionals, Loops and Functions"
   ]
  },
  {
   "cell_type": "markdown",
   "metadata": {},
   "source": [
    "![Image of Yaktocat](http://www.max-visual-basic.com/image-files/conditional-branching.png)"
   ]
  },
  {
   "cell_type": "markdown",
   "metadata": {},
   "source": [
    "So you are now a master at setting and working with variables. It must have been pretty tedious to work with each variable one by one right? Imagine if you had to work with hundreds, thousands, millions of records. Who in their right mind would set them one by one? And what if you had to change some dates to some other format, if they aren't in the correct format? Tedious, tedious ,tedious. \n",
    "\n",
    "Programming to the rescue then. In this notebook, you'll learn about conditional statements, which are basically decision makers, Loops which repeat an action while a condition is true, and functions, which help your code be clean, reusable, and most of all *pretty*."
   ]
  },
  {
   "cell_type": "markdown",
   "metadata": {},
   "source": [
    "## Conditional Statements"
   ]
  },
  {
   "cell_type": "markdown",
   "metadata": {},
   "source": [
    "At a glance, these seem pretty simple. If an expression is true, do something, if it's false do something else. However, this is one of the most **powerful** tools at your disposal when it comes to  programming. Let's look at a quick example: determining if someone is underage or not."
   ]
  },
  {
   "cell_type": "code",
   "execution_count": null,
   "metadata": {
    "collapsed": false
   },
   "outputs": [],
   "source": [
    "age = 20\n",
    "if age < 18:\n",
    "    print(\"Get outta here kid.\")\n",
    "    \n",
    "else:\n",
    "    print(\"Go right through, sir.\")\n",
    "    "
   ]
  },
  {
   "cell_type": "markdown",
   "metadata": {},
   "source": [
    "Pretty cool, huh. Play around with the age so your eyes don't fool you. This is the bare basics of a conditional statement, but you'll see them all throughout these notebooks. The symbols that are used in conditional statementes are: \n",
    "\n",
    " <  Lesser than.\n",
    " \n",
    " \\>  Greater than.\n",
    " \n",
    " <= Lesser or equal to.\n",
    " \n",
    " \\>= Greater or equal to.\n",
    " \n",
    " == Equals.\n",
    " \n",
    " != Not equals.\n",
    " \n",
    " \n",
    "A bit more under the hood, what a conditional statement does, is evaluate the expression and return a boolean value ( you remember what those are right?). If it's True, what's inside the statement is executed, and if it's false it's skipped."
   ]
  },
  {
   "cell_type": "markdown",
   "metadata": {},
   "source": [
    "#### Your turn now.\n",
    "\n",
    "So you are working as a metro train officer, and your job is to give seats to those that need it most. If a person is older than 65, is blind or with children, they deserve a seat. If not, they gotta stay standing up.\n",
    "\n",
    "Hint: Play around with  what you create, see what is evaluated as **True** and what is evaluated as **False**."
   ]
  },
  {
   "cell_type": "code",
   "execution_count": null,
   "metadata": {
    "collapsed": true
   },
   "outputs": [],
   "source": [
    "#Person information.\n",
    "age = \" \"\n",
    "is_blind = \" \"\n",
    "number_of_children = \" \"\n",
    "\n",
    "#Your job as an officer down here."
   ]
  },
  {
   "cell_type": "markdown",
   "metadata": {},
   "source": [
    "Now, what about cases where we have more than one condition to be evaluated, which yields to different results? Aside from if and else, there's also else if or **elif** in python. It takes a condition, just as an if, but it's evaluated if the if condition fails. If both fail, then the else is executed. Let's see an example:"
   ]
  },
  {
   "cell_type": "code",
   "execution_count": null,
   "metadata": {
    "collapsed": false
   },
   "outputs": [],
   "source": [
    "grade = 65 \n",
    "\n",
    "if grade >= 90:\n",
    "    print(\"You got an A\")\n",
    "    \n",
    "elif grade >= 80 and grade  < 90:\n",
    "    print(\"You got a B\")\n",
    "    \n",
    "elif grade >=70 and grade < 80:\n",
    "    print(\"You got a C\")\n",
    "    \n",
    "else:\n",
    "    print(\"Ouch...\")\n"
   ]
  },
  {
   "cell_type": "markdown",
   "metadata": {},
   "source": [
    "What happens when you have 10 cases? or 20 cases? Hopefully you never see a case like this, but it can happen. In a future notebook, we'll see how to deal with this."
   ]
  },
  {
   "cell_type": "markdown",
   "metadata": {},
   "source": [
    "#### Your turn now.\n",
    "\n",
    "Let's say you have a delicious pizza of x slices, which you want to divide equally between your y friends. How would you go around that? Given the slices of pizza, print if you can divide it equally between your friends or not.\n",
    "\n",
    "**Hint**: Try using the modulo (%) operator."
   ]
  },
  {
   "cell_type": "code",
   "execution_count": null,
   "metadata": {
    "collapsed": true
   },
   "outputs": [],
   "source": [
    "slices = \" \"\n",
    "friends = \" \" #Hopefully you don't set this to zero :'(\n"
   ]
  },
  {
   "cell_type": "markdown",
   "metadata": {},
   "source": [
    "## Loops"
   ]
  },
  {
   "cell_type": "markdown",
   "metadata": {},
   "source": [
    "A loop is something that happens repeatedly until it stops, or something forces it to stop. Have you ever played a game, where it wouldn't continue until you said yes? That's a loop. It keeps executing while a condition is true. In that case, the condition was while your choice was no. Let's simulate this here."
   ]
  },
  {
   "cell_type": "code",
   "execution_count": 2,
   "metadata": {
    "collapsed": false
   },
   "outputs": [
    {
     "name": "stdout",
     "output_type": "stream",
     "text": [
      "Help me? Yes or no Yes\n",
      "Thanks!\n"
     ]
    }
   ],
   "source": [
    "choice = input(\"Help me? Yes or no \")\n",
    "while choice == \"no\":\n",
    "    choice = input(\"Pleeeeaaaase \")\n",
    "print(\"Thanks!\")"
   ]
  },
  {
   "cell_type": "markdown",
   "metadata": {},
   "source": [
    "Basically, a while takes a condition, like an if, and executes itself while the condition is true. **Be very careful however**, since if there's no way to make the condition of the while False, you'll enter an *INFINITE LOOP*, which will crash your program. If necessary, use the break statement to break out of a loop that isn't meant to be escaped from, like this:"
   ]
  },
  {
   "cell_type": "code",
   "execution_count": 3,
   "metadata": {
    "collapsed": false
   },
   "outputs": [
    {
     "name": "stdout",
     "output_type": "stream",
     "text": [
      "14\n",
      "13\n",
      "12\n",
      "11\n",
      "10\n"
     ]
    }
   ],
   "source": [
    "age = 15\n",
    "while True:\n",
    "    age = age - 1\n",
    "    print(age)\n",
    "    if age == 10:\n",
    "        break #Get me out of here!"
   ]
  },
  {
   "cell_type": "markdown",
   "metadata": {},
   "source": [
    "#### Now your turn.\n",
    "\n",
    "Imagine you are managing your business, and getting a sweet, *sweet* paycheck from a client. However, his money is spread all over the place. You need to take *at least* the amount of money that the client owes you. Write a loop that recieves takes $100 bills  until the deal is satisfied. **Make sure it's not an infinite loop!**"
   ]
  },
  {
   "cell_type": "code",
   "execution_count": 4,
   "metadata": {
    "collapsed": true
   },
   "outputs": [],
   "source": [
    "client_owes = 1500\n",
    "#Your code here.\n"
   ]
  },
  {
   "cell_type": "markdown",
   "metadata": {},
   "source": [
    "If you know where the loop begins and when it ends, it's best to use another type of loop, a **for** statement. Fors start from one number and end at another number, incrementing by some accumulator, usually +1. For example, to print numbers from 1 through 9:"
   ]
  },
  {
   "cell_type": "code",
   "execution_count": 5,
   "metadata": {
    "collapsed": false
   },
   "outputs": [
    {
     "name": "stdout",
     "output_type": "stream",
     "text": [
      "1\n",
      "2\n",
      "3\n",
      "4\n",
      "5\n",
      "6\n",
      "7\n",
      "8\n",
      "9\n"
     ]
    }
   ],
   "source": [
    "for i in range(1,10):\n",
    "    print(i)"
   ]
  },
  {
   "cell_type": "markdown",
   "metadata": {},
   "source": [
    "The syntax of a for statement in Python goes like this:\n",
    "\n",
    "    for  accumulator in range( initial accumulator value, limit of accumulator value) \n",
    "    \n",
    "In the example above, the accumulator is i  which starts at 0 and ends at 10. However, 10 is not printed! This is because the for loop ends when the accumulator reaches its limit, but it doesn't execute what is inside the statement. In Data Science, you'll use for statements much more than while statements, so get used to them. An example with a different accumulator:"
   ]
  },
  {
   "cell_type": "code",
   "execution_count": 7,
   "metadata": {
    "collapsed": false
   },
   "outputs": [
    {
     "name": "stdout",
     "output_type": "stream",
     "text": [
      "Countdown:\n",
      "10\n",
      "9\n",
      "8\n",
      "7\n",
      "6\n",
      "5\n",
      "4\n",
      "3\n",
      "2\n",
      "1\n",
      "LAUNCH\n"
     ]
    }
   ],
   "source": [
    "print(\"Countdown:\")\n",
    "for i in range(10,0,-1):\n",
    "    print(i)\n",
    "    \n",
    "print(\"LAUNCH\")"
   ]
  },
  {
   "cell_type": "markdown",
   "metadata": {},
   "source": [
    "#### Your turn now."
   ]
  },
  {
   "cell_type": "markdown",
   "metadata": {},
   "source": [
    "A classic programming time-waster is the Fizz Buzz problem. It's simple, for the numbers from 1 to 100, if the number is divisible by 3 print Fizz, if it's divisible by 5 print Buzz, if it's divisible by 3 and 5 print FizzBuzz. Create a for loop that does exactly that below. "
   ]
  },
  {
   "cell_type": "code",
   "execution_count": 8,
   "metadata": {
    "collapsed": true
   },
   "outputs": [],
   "source": [
    "#Your code here."
   ]
  },
  {
   "cell_type": "markdown",
   "metadata": {},
   "source": [
    "## Functions"
   ]
  },
  {
   "cell_type": "markdown",
   "metadata": {},
   "source": [
    "Remember all this code we have done up until now. What if we wanted to use it again later? It would be terrible to be copypasting everything all willy-nilly. Well that's why we use functions. Functions can be called at any time to execute the code that's inside. "
   ]
  },
  {
   "cell_type": "code",
   "execution_count": 9,
   "metadata": {
    "collapsed": false
   },
   "outputs": [
    {
     "name": "stdout",
     "output_type": "stream",
     "text": [
      "I'm Printing!\n"
     ]
    }
   ],
   "source": [
    "def Print_Function():\n",
    "    print(\"I'm Printing!\")\n",
    "    \n",
    "Print_Function()"
   ]
  },
  {
   "cell_type": "markdown",
   "metadata": {},
   "source": [
    "As you can see, you just have to call the function to execute the code that is inside. The syntax for a function in Python goes like this:\n",
    "\n",
    "    def  NameOfFunction( paramater1 of the function, parameter2 of the function,.... parameterN of the function):\n",
    "        Function definition\n",
    "        (Optional) return something\n",
    "        \n",
    "The previous function we defined took no parameters and returned nothing. That's okay, but in Data Science, you'll see a lot of functions that receive parameters, and return a value based on those parameters. For example: "
   ]
  },
  {
   "cell_type": "code",
   "execution_count": 10,
   "metadata": {
    "collapsed": false
   },
   "outputs": [
    {
     "name": "stdout",
     "output_type": "stream",
     "text": [
      "True\n"
     ]
    }
   ],
   "source": [
    "def Is_Less_Than_10(number):\n",
    "    result = False\n",
    "    \n",
    "    if number < 10:\n",
    "        result = True\n",
    "        \n",
    "    return result\n",
    "\n",
    "print(Is_Less_Than_10(7))"
   ]
  },
  {
   "cell_type": "markdown",
   "metadata": {},
   "source": [
    "Functions make your code shorter, more readable and more reusable. There's basically no downside to using functions whenever you can, so you Don't Repeat Yourself (DRY). Now time for some exercises: "
   ]
  },
  {
   "cell_type": "markdown",
   "metadata": {},
   "source": [
    "## Exercises"
   ]
  },
  {
   "cell_type": "markdown",
   "metadata": {},
   "source": [
    "1.Write a function that determines whether a number is within a given range."
   ]
  },
  {
   "cell_type": "code",
   "execution_count": 11,
   "metadata": {
    "collapsed": true
   },
   "outputs": [],
   "source": [
    "#Your code here"
   ]
  },
  {
   "cell_type": "markdown",
   "metadata": {},
   "source": [
    "2.Write a function that takes a number as a parameter and checks the number is prime or not."
   ]
  },
  {
   "cell_type": "code",
   "execution_count": 12,
   "metadata": {
    "collapsed": true
   },
   "outputs": [],
   "source": [
    "#Your code here"
   ]
  },
  {
   "cell_type": "markdown",
   "metadata": {},
   "source": [
    "3.Write a function that takes a first name and a last name and prints them together."
   ]
  },
  {
   "cell_type": "code",
   "execution_count": null,
   "metadata": {
    "collapsed": true
   },
   "outputs": [],
   "source": [
    "#Your code here"
   ]
  },
  {
   "cell_type": "markdown",
   "metadata": {},
   "source": [
    "4.Write a function that calculates the mean of the numbers withing a given range,."
   ]
  },
  {
   "cell_type": "code",
   "execution_count": 13,
   "metadata": {
    "collapsed": true
   },
   "outputs": [],
   "source": [
    "#Your code here"
   ]
  },
  {
   "cell_type": "markdown",
   "metadata": {},
   "source": [
    "5.Write a function that can execute the 4 functions you created above."
   ]
  },
  {
   "cell_type": "code",
   "execution_count": 14,
   "metadata": {
    "collapsed": true
   },
   "outputs": [],
   "source": [
    "#Your code here"
   ]
  },
  {
   "cell_type": "markdown",
   "metadata": {},
   "source": [
    "## Further Reading"
   ]
  },
  {
   "cell_type": "markdown",
   "metadata": {},
   "source": [
    "1. https://www.tutorialspoint.com/python/python_functions.htm\n",
    "2. http://anh.cs.luc.edu/python/hands-on/3.1/handsonHtml/functions.html"
   ]
  },
  {
   "cell_type": "code",
   "execution_count": null,
   "metadata": {
    "collapsed": true
   },
   "outputs": [],
   "source": []
  }
 ],
 "metadata": {
  "kernelspec": {
   "display_name": "Python 3",
   "language": "python",
   "name": "python3"
  },
  "language_info": {
   "codemirror_mode": {
    "name": "ipython",
    "version": 3
   },
   "file_extension": ".py",
   "mimetype": "text/x-python",
   "name": "python",
   "nbconvert_exporter": "python",
   "pygments_lexer": "ipython3",
   "version": "3.6.0"
  }
 },
 "nbformat": 4,
 "nbformat_minor": 2
}
