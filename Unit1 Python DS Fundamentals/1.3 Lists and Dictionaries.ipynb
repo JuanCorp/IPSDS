{
 "cells": [
  {
   "cell_type": "markdown",
   "metadata": {},
   "source": [
    "# Lists and Dictionaries"
   ]
  },
  {
   "cell_type": "markdown",
   "metadata": {},
   "source": [
    "![title](http://bjc.berkeley.edu/bjc-r/img/python/dictionaries_vs_lists.jpg)"
   ]
  },
  {
   "cell_type": "markdown",
   "metadata": {},
   "source": [
    "As of now, we've only worked with variables and values that contain a single element. But as you already know, life isn't about singularities. As a Data Scientist, you'll work with thousands or millions of elements, neatly (or sometimes not) aggrupated in a list, a set , a table,etc. In this notebook, you'll learn of the two main structures for grouping data in Python, lists and dictionaries. Let's start with lists. "
   ]
  },
  {
   "cell_type": "markdown",
   "metadata": {},
   "source": [
    "## Lists"
   ]
  },
  {
   "cell_type": "markdown",
   "metadata": {},
   "source": [
    "Lists group data in something called an **array**.  Arrays and lists are different structures in other programming languages, but in Python, they blend into a strange, but helpful mix.  Let's first see them as arrays:"
   ]
  },
  {
   "cell_type": "markdown",
   "metadata": {},
   "source": [
    "![title](http://1.bp.blogspot.com/_kLg3mPfGL6E/S_nN7gNjwHI/AAAAAAAAALA/v3AcbLZ-kAc/s1600/one+dimension+array.jpg)"
   ]
  },
  {
   "cell_type": "markdown",
   "metadata": {},
   "source": [
    "Arrays are divided in indexes, that go from 0 to the size of the array minus 1. In picture, they go from 1 to the size of the array, but in most programming languages, the first index of the array is 0. In case you are confused, let's see an array in action."
   ]
  },
  {
   "cell_type": "code",
   "execution_count": 6,
   "metadata": {
    "collapsed": false
   },
   "outputs": [
    {
     "name": "stdout",
     "output_type": "stream",
     "text": [
      "1\n",
      "4\n"
     ]
    },
    {
     "ename": "IndexError",
     "evalue": "list index out of range",
     "output_type": "error",
     "traceback": [
      "\u001b[0;31m---------------------------------------------------------------------------\u001b[0m",
      "\u001b[0;31mIndexError\u001b[0m                                Traceback (most recent call last)",
      "\u001b[0;32m<ipython-input-6-8089a3b1dcb7>\u001b[0m in \u001b[0;36m<module>\u001b[0;34m()\u001b[0m\n\u001b[1;32m      2\u001b[0m \u001b[0mprint\u001b[0m\u001b[1;33m(\u001b[0m\u001b[0marray\u001b[0m\u001b[1;33m[\u001b[0m\u001b[1;36m0\u001b[0m\u001b[1;33m]\u001b[0m\u001b[1;33m)\u001b[0m\u001b[1;33m\u001b[0m\u001b[0m\n\u001b[1;32m      3\u001b[0m \u001b[0mprint\u001b[0m\u001b[1;33m(\u001b[0m\u001b[0marray\u001b[0m\u001b[1;33m[\u001b[0m\u001b[1;36m3\u001b[0m\u001b[1;33m]\u001b[0m\u001b[1;33m)\u001b[0m\u001b[1;33m\u001b[0m\u001b[0m\n\u001b[0;32m----> 4\u001b[0;31m \u001b[0mprint\u001b[0m\u001b[1;33m(\u001b[0m\u001b[0marray\u001b[0m\u001b[1;33m[\u001b[0m\u001b[1;36m5\u001b[0m\u001b[1;33m]\u001b[0m\u001b[1;33m)\u001b[0m\u001b[1;33m\u001b[0m\u001b[0m\n\u001b[0m",
      "\u001b[0;31mIndexError\u001b[0m: list index out of range"
     ]
    }
   ],
   "source": [
    "array = [1,2,3,4,5]\n",
    "print(array[0])\n",
    "print(array[3])\n",
    "print(array[5])"
   ]
  },
  {
   "cell_type": "markdown",
   "metadata": {},
   "source": [
    "As you can see, the array in index 0 was 1, in index 3 was 4 , and in index 5 it gave us an error. Even though the size of the array is 5, the indexes in python go from 0 to the size - 1, so in this case from 0 to 4.  \n",
    "\n",
    "Elements of a list don't even have to be the same type. Just be careful to not perform operations on data that is not of the same type."
   ]
  },
  {
   "cell_type": "code",
   "execution_count": 10,
   "metadata": {
    "collapsed": false
   },
   "outputs": [
    {
     "name": "stdout",
     "output_type": "stream",
     "text": [
      "['Abc', 'easy as', 1, 2, 3]\n",
      "6\n",
      "Abc easy as 123\n"
     ]
    }
   ],
   "source": [
    "array = [\"Abc\",\"easy as\",1,2,3]\n",
    "print(array)\n",
    "print(array[2] + array[3] + array[4])\n",
    "print(array[0] + \" \" + array[1] + \" 123\")"
   ]
  },
  {
   "cell_type": "markdown",
   "metadata": {},
   "source": [
    "#### Your turn now.\n",
    "\n",
    "You are a cashier serving a line of customers, that have different costs of items. Your job is to print the total for each customer. \n",
    "\n",
    "**Hint**: items is a list of lists! You can use some for loops to accomplish this."
   ]
  },
  {
   "cell_type": "code",
   "execution_count": 11,
   "metadata": {
    "collapsed": true
   },
   "outputs": [],
   "source": [
    "items = [[10.25,25,51.25],[5,7,2,11],[23,11,55,44]]\n",
    "customers = [\"John\",\"Gustav\",\"Michael\"]\n",
    "#Your code here"
   ]
  },
  {
   "cell_type": "markdown",
   "metadata": {},
   "source": [
    "## Empty Lists"
   ]
  },
  {
   "cell_type": "markdown",
   "metadata": {},
   "source": [
    "Even though  it would be nice if all the lists of data your recieved were full, that's not always a case. Sometimes, you have to fill a list based on a certain condition, or need an empty list to start with since you don't know how many elements it will have. But don't worry, lists have your back. You can create an empty list, then add items using the *append* method of lists, which adds an element to the end of the list."
   ]
  },
  {
   "cell_type": "code",
   "execution_count": 12,
   "metadata": {
    "collapsed": false
   },
   "outputs": [
    {
     "data": {
      "text/plain": [
       "[10, False, 'Groceries', ['another', 'list']]"
      ]
     },
     "execution_count": 12,
     "metadata": {},
     "output_type": "execute_result"
    }
   ],
   "source": [
    "empty_list = []\n",
    "empty_list.append(10)\n",
    "empty_list.append(False)\n",
    "empty_list.append(\"Groceries\")\n",
    "empty_list.append([\"another\",\"list\"])\n",
    "empty_list"
   ]
  },
  {
   "cell_type": "markdown",
   "metadata": {},
   "source": [
    "After you have filled a list, you can access its elements like you would with an array."
   ]
  },
  {
   "cell_type": "code",
   "execution_count": 13,
   "metadata": {
    "collapsed": false
   },
   "outputs": [
    {
     "name": "stdout",
     "output_type": "stream",
     "text": [
      "Groceries\n",
      "list\n"
     ]
    }
   ],
   "source": [
    "print(empty_list[2])\n",
    "print(empty_list[3][1])"
   ]
  },
  {
   "cell_type": "markdown",
   "metadata": {},
   "source": [
    "#### Now your turn.\n",
    "\n",
    "Fill a list with what you've eaten today (or yesterday). Then, print what you had for lunch."
   ]
  },
  {
   "cell_type": "code",
   "execution_count": 14,
   "metadata": {
    "collapsed": true
   },
   "outputs": [],
   "source": [
    "foods = []\n",
    "#Your code here."
   ]
  },
  {
   "cell_type": "markdown",
   "metadata": {},
   "source": [
    "## Operations with lists."
   ]
  },
  {
   "cell_type": "markdown",
   "metadata": {},
   "source": [
    "There are a multitude of operations you can perform with lists. So many that I can't possibly list them all (but I'll surely leave you something to read at the end). Here are some of them:"
   ]
  },
  {
   "cell_type": "markdown",
   "metadata": {},
   "source": [
    " -**extend**: Appends a list to the end of another list. The difference between using append and extends, is that append adds the whole list as an element to the first list, while extends adds the elements of the second list to the first list."
   ]
  },
  {
   "cell_type": "code",
   "execution_count": 20,
   "metadata": {
    "collapsed": false
   },
   "outputs": [
    {
     "name": "stdout",
     "output_type": "stream",
     "text": [
      "[1, 2, 3, [4, 5, 6]]\n",
      "[4, 5, 6, 4, 5, 6]\n"
     ]
    }
   ],
   "source": [
    "l1 = [1,2,3]\n",
    "l2 = [4,5,6]\n",
    "l1.append(l2)\n",
    "print(l1)\n",
    "l2.extend(l2)\n",
    "print(l2)"
   ]
  },
  {
   "cell_type": "markdown",
   "metadata": {},
   "source": [
    "-**slice**: Returns a part of the list, as specified in the by the indexes that are sliced. This operation is performed by using '** : **' inside the square brackets."
   ]
  },
  {
   "cell_type": "code",
   "execution_count": 25,
   "metadata": {
    "collapsed": false
   },
   "outputs": [
    {
     "name": "stdout",
     "output_type": "stream",
     "text": [
      "[1000, 10000, 100000]\n",
      "[1, 10]\n",
      "[10, 100, 1000]\n",
      "[1, 10, 100, 1000, 10000, 100000]\n"
     ]
    }
   ],
   "source": [
    "another_list = [1,10,100,1000,10000,100000]\n",
    "print(another_list[3:]) #Gets all elements after the third index (inclusive).\n",
    "print(another_list[:2]) #Gets all elements before the second index.\n",
    "print(another_list[1:4])#Gets all elements between the first and fourth index.\n",
    "print(another_list[:]) #Gets all elements of the list."
   ]
  },
  {
   "cell_type": "markdown",
   "metadata": {},
   "source": [
    "-**len** : Returns the number of elements in the list, as an integer. "
   ]
  },
  {
   "cell_type": "code",
   "execution_count": 34,
   "metadata": {
    "collapsed": false
   },
   "outputs": [
    {
     "name": "stdout",
     "output_type": "stream",
     "text": [
      "11\n",
      "8\n"
     ]
    }
   ],
   "source": [
    "long_word = \"Superlative\"\n",
    "the_lengthy_list = [1,0,2,4,6,23,2,19]\n",
    "print(len(long_word))\n",
    "print(len(the_lengthy_list))"
   ]
  },
  {
   "cell_type": "markdown",
   "metadata": {},
   "source": [
    "-**Operations with strings** Strings have  their own operations that are similar to lists. Let's view some of them."
   ]
  },
  {
   "cell_type": "code",
   "execution_count": 30,
   "metadata": {
    "collapsed": false
   },
   "outputs": [
    {
     "name": "stdout",
     "output_type": "stream",
     "text": [
      "['I', 'am', 'not', 'a', 'horse.']\n",
      "I am not a horse.\n"
     ]
    }
   ],
   "source": [
    "sentence = \"I am not a horse.\"\n",
    "words = sentence.split(\" \") #Splits a string into a list that is divided by a character specified between parentheses.\n",
    "print(words)\n",
    "\n",
    "# The inverse of split, it joins a list of strings, and separates them by the specified character.\n",
    "new_sentence=\" \".join(words)\n",
    "print(new_sentence)"
   ]
  },
  {
   "cell_type": "markdown",
   "metadata": {},
   "source": [
    "Also, strings can be accessed and sliced by character, just like a list."
   ]
  },
  {
   "cell_type": "code",
   "execution_count": 33,
   "metadata": {
    "collapsed": false
   },
   "outputs": [
    {
     "name": "stdout",
     "output_type": "stream",
     "text": [
      "It's\n",
      "me\n"
     ]
    }
   ],
   "source": [
    "Hello = \"It's me\"\n",
    "print(Hello[0:4])\n",
    "print(Hello[5:])"
   ]
  },
  {
   "cell_type": "markdown",
   "metadata": {},
   "source": [
    "#### Now your turn.\n",
    "\n",
    "Suppose you are writing a sentence for one of your essays, but you don't want to use any short words. You have a very long sentence, but you want to cut all words that are shorter than 4 letters. Write a function that determines if a word has less than 4 letters, and create a new sentence that has those words removed."
   ]
  },
  {
   "cell_type": "code",
   "execution_count": 38,
   "metadata": {
    "collapsed": false
   },
   "outputs": [],
   "source": [
    "long_sentence = \"As he crossed toward the pharmacy at the corner he involuntarily turned his head because of a burst\"\n",
    "\n",
    "#Your code here.\n"
   ]
  },
  {
   "cell_type": "markdown",
   "metadata": {},
   "source": [
    "## Dictionaries"
   ]
  },
  {
   "cell_type": "markdown",
   "metadata": {},
   "source": [
    "Dictionaries are another type of structure like lists, but unlike lists, they don't exactly follow an index. Dictionaries follow something called the key-value pair. Each key in the dictionary has its own  value. Values may be repeated between dictionaries, but keys are **not**. If you do set to keys that are the same in a dictionary, the newly added key will replace the old one."
   ]
  },
  {
   "cell_type": "code",
   "execution_count": 41,
   "metadata": {
    "collapsed": false
   },
   "outputs": [
    {
     "name": "stdout",
     "output_type": "stream",
     "text": [
      "{'Windows': 10, 'OS X': 8}\n",
      "{'key': 5}\n"
     ]
    }
   ],
   "source": [
    "dictionary = {\"Windows\":10,\"OS X\":8}\n",
    "print(dictionary)\n",
    "\n",
    "second_dict = {\"key\": 1,\"key\":5}\n",
    "print(second_dict)"
   ]
  },
  {
   "cell_type": "markdown",
   "metadata": {},
   "source": [
    "To access a the value of a key of a dictionary, you access the dictionary using the key, like you would with a list and an index. If a key you specify doesn't exist, a new one will be  created with the value that you pass."
   ]
  },
  {
   "cell_type": "code",
   "execution_count": 42,
   "metadata": {
    "collapsed": false
   },
   "outputs": [
    {
     "name": "stdout",
     "output_type": "stream",
     "text": [
      "10\n",
      "{'Windows': 10, 'OS X': 8, 'Linux': 'Ubuntu'}\n"
     ]
    }
   ],
   "source": [
    "print(dictionary[\"Windows\"])\n",
    "dictionary[\"Linux\"] = \"Ubuntu\"\n",
    "print(dictionary)"
   ]
  },
  {
   "cell_type": "markdown",
   "metadata": {},
   "source": [
    "One of the main advantages of dictionaries, is that they are **really fast** when it comes to accessing a value, and at finding if a key already exists. This is because each key is unique, so it doesn't have to iterate through all the keys. In  any case, you can access the keys and the values of a dictionary with the keys method and the values method. However, these return a **view** of the dictionaries. To access these keys and values individually, you have to first turn them into a list, using the list() function:"
   ]
  },
  {
   "cell_type": "code",
   "execution_count": 44,
   "metadata": {
    "collapsed": false
   },
   "outputs": [
    {
     "name": "stdout",
     "output_type": "stream",
     "text": [
      "['Windows', 'OS X', 'Linux']\n",
      "[10, 8, 'Ubuntu']\n"
     ]
    }
   ],
   "source": [
    "print(list(dictionary.keys()))\n",
    "print(list(dictionary.values()))"
   ]
  },
  {
   "cell_type": "markdown",
   "metadata": {},
   "source": [
    "#### Now your turn."
   ]
  },
  {
   "cell_type": "markdown",
   "metadata": {},
   "source": [
    "You are the owner of a restaurant, and you want to fully digitize how your work. For the menu, you decided to create a dictionary with the name of the plate and it's price. Create the menu, and a function that returns the price for a given food."
   ]
  },
  {
   "cell_type": "code",
   "execution_count": 45,
   "metadata": {
    "collapsed": true
   },
   "outputs": [],
   "source": [
    "#Your code here.\n",
    "menu = {}\n"
   ]
  },
  {
   "cell_type": "markdown",
   "metadata": {},
   "source": [
    "As a Data Scientist, you'll use Lists and Dictionaries  very frequently, so practice them a lot.  You'll also need to know when to use a dictionary and when to use a list. I'll leave that up to you to find out ;) ."
   ]
  },
  {
   "cell_type": "markdown",
   "metadata": {},
   "source": [
    "## Exercises"
   ]
  },
  {
   "cell_type": "markdown",
   "metadata": {},
   "source": [
    "1. Write a function to remove duplicates from a list."
   ]
  },
  {
   "cell_type": "code",
   "execution_count": 46,
   "metadata": {
    "collapsed": true
   },
   "outputs": [],
   "source": [
    "#Your code here."
   ]
  },
  {
   "cell_type": "markdown",
   "metadata": {},
   "source": [
    "2.Write a function that takes two lists and returns True if they have at least one common member."
   ]
  },
  {
   "cell_type": "code",
   "execution_count": 47,
   "metadata": {
    "collapsed": true
   },
   "outputs": [],
   "source": [
    "#Your code here."
   ]
  },
  {
   "cell_type": "markdown",
   "metadata": {},
   "source": [
    "3.Write a function to get the maximum and minimum value in a dictionary."
   ]
  },
  {
   "cell_type": "code",
   "execution_count": 48,
   "metadata": {
    "collapsed": true
   },
   "outputs": [],
   "source": [
    "#Your code here."
   ]
  },
  {
   "cell_type": "markdown",
   "metadata": {},
   "source": [
    "4.Write a function to merge two Python dictionaries"
   ]
  },
  {
   "cell_type": "code",
   "execution_count": 49,
   "metadata": {
    "collapsed": true
   },
   "outputs": [],
   "source": [
    "#Your code here."
   ]
  },
  {
   "cell_type": "markdown",
   "metadata": {},
   "source": [
    "5.Write a function to map two lists into a dictionary"
   ]
  },
  {
   "cell_type": "code",
   "execution_count": 50,
   "metadata": {
    "collapsed": true
   },
   "outputs": [],
   "source": [
    "#Your code here."
   ]
  },
  {
   "cell_type": "markdown",
   "metadata": {},
   "source": [
    "### Extra: List Comprehension."
   ]
  },
  {
   "cell_type": "markdown",
   "metadata": {},
   "source": [
    "Another way to fill out an empty list, is by using list comprehension. You do this by iterating through a range of values using a for loop, and only taking the values that match the condition:"
   ]
  },
  {
   "cell_type": "code",
   "execution_count": 51,
   "metadata": {
    "collapsed": false
   },
   "outputs": [
    {
     "data": {
      "text/plain": [
       "[0, 2, 4, 6, 8, 10, 12, 14, 16, 18]"
      ]
     },
     "execution_count": 51,
     "metadata": {},
     "output_type": "execute_result"
    }
   ],
   "source": [
    "even_numbers = [number for number in range(0,20) if number%2==0]\n",
    "even_numbers"
   ]
  },
  {
   "cell_type": "markdown",
   "metadata": {},
   "source": [
    "This may seem complicated, but practice it a lot, and you'll become a master at it."
   ]
  },
  {
   "cell_type": "markdown",
   "metadata": {},
   "source": [
    "## Extra Reading:"
   ]
  },
  {
   "cell_type": "markdown",
   "metadata": {},
   "source": [
    "lists,dicts and more: https://docs.python.org/3/tutorial/datastructures.html"
   ]
  },
  {
   "cell_type": "code",
   "execution_count": null,
   "metadata": {
    "collapsed": true
   },
   "outputs": [],
   "source": []
  }
 ],
 "metadata": {
  "kernelspec": {
   "display_name": "Python 3",
   "language": "python",
   "name": "python3"
  },
  "language_info": {
   "codemirror_mode": {
    "name": "ipython",
    "version": 3
   },
   "file_extension": ".py",
   "mimetype": "text/x-python",
   "name": "python",
   "nbconvert_exporter": "python",
   "pygments_lexer": "ipython3",
   "version": "3.6.0"
  }
 },
 "nbformat": 4,
 "nbformat_minor": 2
}
