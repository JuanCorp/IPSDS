{
 "cells": [
  {
   "cell_type": "markdown",
   "metadata": {},
   "source": [
    "![title](https://bids.berkeley.edu/sites/default/files/styles/400x225/public/projects/numpy_project_page.jpg?itok=flrdydei)"
   ]
  },
  {
   "cell_type": "markdown",
   "metadata": {},
   "source": [
    "# Working with vectors using NumPy"
   ]
  },
  {
   "cell_type": "markdown",
   "metadata": {},
   "source": [
    "In Data Science, and especially in machine learning, vectors are a very important element. Vectors are a way of representing dimensions that are not possible to visualize with traditional visualizations like graphs and plots. \n",
    "The study of vectors and operations with them is based on linear algebra, so I highly recommend you have knowledge of this kind of math before going on. In any case, in this notebook you'll learn some basic functionalities of numpy, with a long homework in the end. To start using numpy, we first have to import the numpy package. To import a package that is already installed on our Python environment, we use the **import** keyword. For commodity, we can set a name for our import using the **as** keyword, so it's easier to access later."
   ]
  },
  {
   "cell_type": "code",
   "execution_count": 2,
   "metadata": {
    "collapsed": true
   },
   "outputs": [],
   "source": [
    "import numpy as np"
   ]
  },
  {
   "cell_type": "markdown",
   "metadata": {},
   "source": [
    "The first step towards working with numpy arrays,is well, to create them. There are a multitude of ways to do this:"
   ]
  },
  {
   "cell_type": "code",
   "execution_count": 12,
   "metadata": {},
   "outputs": [
    {
     "name": "stdout",
     "output_type": "stream",
     "text": [
      "[1 2 5 7]\n",
      "<class 'numpy.ndarray'>\n",
      "[ 0.65912476  0.17512482  0.02149847  0.88961566  0.19205749]\n",
      "[ 5 10 15]\n"
     ]
    }
   ],
   "source": [
    "#Creating a numpy array from a list.\n",
    "thelist = [1,2,5,7]\n",
    "nplist = np.array(thelist)\n",
    "print(nplist)\n",
    "print(type(nplist))\n",
    "\n",
    "#Create a numpy array from random numbers.\n",
    "random_list = np.random.random(5)\n",
    "print(random_list)\n",
    "\n",
    "#Create a numpy array of integers of equally spaced numbers.\n",
    "int_list = np.arange(5,20,5,dtype=np.int)\n",
    "print(int_list)"
   ]
  },
  {
   "cell_type": "markdown",
   "metadata": {},
   "source": [
    "But now you may be wondering, what's the use of this? Well one of the uses is, remember how to calculate the max or the min of a list, you had to iterate with a for loop? NumPy has alot of built-in functions that will help you do those calculations in no time. Let's look at some of them:"
   ]
  },
  {
   "cell_type": "code",
   "execution_count": 15,
   "metadata": {},
   "outputs": [
    {
     "name": "stdout",
     "output_type": "stream",
     "text": [
      "[ 0.94678458  0.1371171   0.02074209  0.62969723  0.55500494  0.31965473\n",
      "  0.28206598  0.72580073  0.04594773  0.30045881]\n",
      "0.946784577455\n",
      "0.0207420942195\n",
      "0.396327390775\n"
     ]
    }
   ],
   "source": [
    "built_list = np.random.random(10)\n",
    "print(built_list)\n",
    "print(built_list.max()) #Returns the maximum value of the array\n",
    "print(built_list.min()) #Returns the minimum value of the array\n",
    "print(built_list.mean())#Returns the mean of the values of the array"
   ]
  },
  {
   "cell_type": "markdown",
   "metadata": {},
   "source": [
    "And the list goes on. Some other functions include (taken from the numpy documentation):"
   ]
  },
  {
   "cell_type": "markdown",
   "metadata": {},
   "source": [
    "**ndarray.ndim** : the number of axes (dimensions) of the array. In the Python world, the number of dimensions is referred to as rank.\n",
    "\n",
    "**ndarray.shape** :the dimensions of the array. This is a tuple of integers indicating the size of the array in each dimension. For a matrix with n rows and m columns, shape will be (n,m). The length of the shape tuple is therefore the rank, or number of dimensions, ndim.\n",
    "\n",
    "**ndarray.size**: the total number of elements of the array. This is equal to the product of the elements of shape.\n",
    "\n",
    "**ndarray.dtype**: an object describing the type of the elements in the array. One can create or specify dtype’s using standard Python types. Additionally NumPy provides types of its own. numpy.int32, numpy.int16, and numpy.float64 are some examples.\n",
    "\n",
    "And other mathematical functions like sine,cosine, dot product, cross product, etc."
   ]
  },
  {
   "cell_type": "markdown",
   "metadata": {},
   "source": [
    "#### Your turn now.\n",
    "Create an array of random numbers using numpy. Then calculate the mean and the standard deviation of the array. And finally, apply mean normalization to each element of the array. \n",
    "\n",
    "**Hint:**  Mean normalization is: For each element in the array, change its value to \n",
    "\n",
    "    (the original value - the mean)/ the standard deviation."
   ]
  },
  {
   "cell_type": "code",
   "execution_count": 16,
   "metadata": {
    "collapsed": true
   },
   "outputs": [],
   "source": [
    "#Your code here"
   ]
  },
  {
   "cell_type": "markdown",
   "metadata": {},
   "source": [
    "## Other operations with NumPy arrays"
   ]
  },
  {
   "cell_type": "markdown",
   "metadata": {},
   "source": [
    "Some other important operations that we can perform using numpy arrays are:\n",
    "\n",
    "#### Element wise mathematical operations."
   ]
  },
  {
   "cell_type": "code",
   "execution_count": 27,
   "metadata": {},
   "outputs": [
    {
     "name": "stdout",
     "output_type": "stream",
     "text": [
      "[ 1.  1.  1.  1.  1.  1.  1.  1.  1.  1.]\n",
      "[ 2.  2.  2.  2.  2.  2.  2.  2.  2.  2.]\n",
      "[ 4.  4.  4.  4.  4.  4.  4.  4.  4.  4.]\n",
      "[ 0.  0.  0.  0.  0.  0.  0.  0.  0.  0.]\n"
     ]
    }
   ],
   "source": [
    "sum_list = np.zeros(10) #Array filled with zeroes\n",
    "sum_list = sum_list + 1 #Add 1 to every element of the array.\n",
    "\n",
    "print(sum_list)\n",
    "\n",
    "sum_list = sum_list * 2\n",
    "print(sum_list) #Multiplies every element of the array by 2.\n",
    "\n",
    "print(sum_list**2) #Calculates the square for every element of the array\n",
    "\n",
    "print(sum_list%2) #Calculates the modulo fir each element of the array"
   ]
  },
  {
   "cell_type": "markdown",
   "metadata": {},
   "source": [
    "#### Subsetting, like in lists. "
   ]
  },
  {
   "cell_type": "code",
   "execution_count": 36,
   "metadata": {},
   "outputs": [
    {
     "name": "stdout",
     "output_type": "stream",
     "text": [
      "The original array\n",
      "[[ 0.64281489  0.56225797  0.3380681   0.87958594  0.43520121]\n",
      " [ 0.39613631  0.50423416  0.74635644  0.90014113  0.60509439]\n",
      " [ 0.03660969  0.99404361  0.31592843  0.51309934  0.72402514]\n",
      " [ 0.74108907  0.35581193  0.20995168  0.92571765  0.24200304]\n",
      " [ 0.99195839  0.08377799  0.05384151  0.68187788  0.49275358]]\n",
      "All elements after the second row\n",
      "[[ 0.03660969  0.99404361  0.31592843  0.51309934  0.72402514]\n",
      " [ 0.74108907  0.35581193  0.20995168  0.92571765  0.24200304]\n",
      " [ 0.99195839  0.08377799  0.05384151  0.68187788  0.49275358]]\n",
      "All elements after the third column\n",
      "[[ 0.87958594  0.43520121]\n",
      " [ 0.90014113  0.60509439]\n",
      " [ 0.51309934  0.72402514]\n",
      " [ 0.92571765  0.24200304]\n",
      " [ 0.68187788  0.49275358]]\n",
      "All elements after the second row and column\n",
      "[[ 0.31592843  0.51309934  0.72402514]\n",
      " [ 0.20995168  0.92571765  0.24200304]\n",
      " [ 0.05384151  0.68187788  0.49275358]]\n",
      "The first element\n",
      "0.642814886529\n"
     ]
    }
   ],
   "source": [
    "random_2d =  np.random.random((5,5)) #Make a 2d array of random numbers.\n",
    "\n",
    "print(\"The original array\")\n",
    "print(random_2d)\n",
    "\n",
    "print(\"All elements after the second row\")\n",
    "print(random_2d[2:])\n",
    "\n",
    "print(\"All elements after the third column\")\n",
    "print(random_2d[:,3:])\n",
    "\n",
    "print(\"All elements after the second row and column\")\n",
    "print(random_2d[2:,2:])\n",
    "\n",
    "print(\"The first element\")\n",
    "print(random_2d[0,0])"
   ]
  },
  {
   "cell_type": "markdown",
   "metadata": {},
   "source": [
    "As a data scientist, you'll be working a lot with 2d arrays like this (basically excel tables and csv files), so knowing how to subset them is crucial to your success."
   ]
  },
  {
   "cell_type": "markdown",
   "metadata": {},
   "source": [
    "#### Simulations"
   ]
  },
  {
   "cell_type": "markdown",
   "metadata": {},
   "source": [
    "Numpy also has neat distributions, like binomial and uniform, to run event simulations. For example, simulate how many times a coin will land on heads after being tossed:"
   ]
  },
  {
   "cell_type": "code",
   "execution_count": 45,
   "metadata": {},
   "outputs": [
    {
     "name": "stdout",
     "output_type": "stream",
     "text": [
      "[245 257 231 248 254 242 255 229 252 243 267 230 251 259 238 252 256 261\n",
      " 263 237 246 266 261 247 260 252 251 260 278 248 248 238 264 253 238 243\n",
      " 286 239 249 242 243 244 241 241 244 241 264 236 259 247 259 257 238 241\n",
      " 244 249 240 247 241 246 249 243 251 246 260 274 262 243 247 246 243 247\n",
      " 262 262 224 242 255 239 246 252 228 256 239 246 235 264 247 252 248 250\n",
      " 245 256 247 239 246 268 239 265 253 239 265 240 267 253 264 259 237 272\n",
      " 254 247 262 246 249 247 253 243 242 234 248 262 241 248 268 247 260 254\n",
      " 251 244 259 238 248 258 253 244 249 250 257 245 255 256 243 245 238 250\n",
      " 263 259 242 254 257 256 263 257 243 252 244 264 235 263 233 276 241 243\n",
      " 250 263 243 268 237 255 262 236 248 261 256 270 261 258 252 260 251 239\n",
      " 262 230 258 247 244 260 241 254 229 253 247 254 246 245 249 237 267 249\n",
      " 271 238 258 252 247 223 241 242 241 242 249 224 246 257 255 237 252 241\n",
      " 255 266 238 249 247 260 255 243 239 229 232 237 246 264 250 247 242 254\n",
      " 261 249 252 254 260 256 236 236 266 230 250 271 249 242 249 249 268 246\n",
      " 249 264 250 253 232 255 244 252 268 267 253 242 252 264 247 258 251 255\n",
      " 246 261 268 246 234 258 258 259 245 259 254 237 238 252 248 236 239 249\n",
      " 224 243 244 246 262 262 248 270 278 233 253 241 256 246 237 248 249 270\n",
      " 264 248 255 268 243 251 245 241 258 263 250 250 241 245 255 264 248 280\n",
      " 264 248 262 229 241 251 270 251 268 255 244 253 260 252 231 261 241 249\n",
      " 248 250 260 247 236 265 257 233 249 247 261 243 247 259 235 243 250 251\n",
      " 260 248 262 248 236 254 246 254 254 252 237 247 259 245 256 243 223 247\n",
      " 235 249 246 247 250 247 238 251 239 259 267 252 239 231 249 259 241 239\n",
      " 235 256 235 262 224 238 245 278 245 253 251 237 259 232 274 236 230 238\n",
      " 260 251 256 258 272 236 253 224 239 252 256 235 257 237 251 242 260 254\n",
      " 222 245 237 240 260 251 229 266 232 274 261 243 240 254 241 251 244 256\n",
      " 252 273 259 247 281 219 262 242 259 246 262 232 246 264 258 237 249 251\n",
      " 260 262 265 246 255 261 256 257 241 249 262 251 255 246 257 254 253 258\n",
      " 256 253 235 236 257 264 266 253 239 235 228 243 246 260]\n"
     ]
    }
   ],
   "source": [
    "sims = np.ndarray((500,), int)\n",
    "for i in range(0,500):\n",
    "    sims[i] = np.random.binomial(500,.5)\n",
    "\n",
    "print(sims)"
   ]
  },
  {
   "cell_type": "markdown",
   "metadata": {},
   "source": [
    "## Exercise"
   ]
  },
  {
   "cell_type": "markdown",
   "metadata": {},
   "source": [
    "Taken from Harvard's CS109 course. Feel free to consult the numpy documentation if needed: https://docs.scipy.org/doc/numpy-dev/user/index.html\n",
    "\n",
    "In a gameshow, contestants try to guess which of 3 closed doors contain a cash prize (goats are behind the other two doors). Of course, the odds of choosing the correct door are 1 in 3. As a twist, the host of the show occasionally opens a door after a contestant makes his or her choice. This door is always one of the two the contestant did not pick, and is also always one of the goat doors (note that it is always possible to do this, since there are two goat doors). At this point, the contestant has the option of keeping his or her original choice, or swtiching to the other unopened door. The question is: is there any benefit to switching doors?\n",
    "\n",
    "First, write a function called simulate_prizedoor. This function will simulate the location of the prize in many games -- see the detailed specification below\n",
    "\n"
   ]
  },
  {
   "cell_type": "code",
   "execution_count": 46,
   "metadata": {},
   "outputs": [
    {
     "data": {
      "text/plain": [
       "'\\nFunction\\n--------\\nsimulate_prizedoor\\n\\nGenerate a random array of 0s, 1s, and 2s, representing\\nhiding a prize between door 0, door 1, and door 2\\n\\nParameters\\n----------\\nnsim : int\\n    The number of simulations to run\\n\\nReturns\\n-------\\nsims : array\\n    Random array of 0s, 1s, and 2s\\n\\nExample\\n-------\\n>>> print simulate_prizedoor(3)\\narray([0, 0, 2])\\n'"
      ]
     },
     "execution_count": 46,
     "metadata": {},
     "output_type": "execute_result"
    }
   ],
   "source": [
    "\"\"\"\n",
    "Function\n",
    "--------\n",
    "simulate_prizedoor\n",
    "\n",
    "Generate a random array of 0s, 1s, and 2s, representing\n",
    "hiding a prize between door 0, door 1, and door 2\n",
    "\n",
    "Parameters\n",
    "----------\n",
    "nsim : int\n",
    "    The number of simulations to run\n",
    "\n",
    "Returns\n",
    "-------\n",
    "sims : array\n",
    "    Random array of 0s, 1s, and 2s\n",
    "\n",
    "Example\n",
    "-------\n",
    ">>> print simulate_prizedoor(3)\n",
    "array([0, 0, 2])\n",
    "\"\"\"\n",
    "#Your code here."
   ]
  },
  {
   "cell_type": "markdown",
   "metadata": {},
   "source": [
    "Next, write a function that simulates the contestant's guesses for nsim simulations. Call this function simulate_guess. The specs:"
   ]
  },
  {
   "cell_type": "code",
   "execution_count": 47,
   "metadata": {},
   "outputs": [
    {
     "data": {
      "text/plain": [
       "'\\nFunction\\n--------\\nsimulate_guess\\n\\nReturn any strategy for guessing which door a prize is behind. This\\ncould be a random strategy, one that always guesses 2, whatever.\\n\\nParameters\\n----------\\nnsim : int\\n    The number of simulations to generate guesses for\\n\\nReturns\\n-------\\nguesses : array\\n    An array of guesses. Each guess is a 0, 1, or 2\\n\\nExample\\n-------\\n>>> print simulate_guess(5)\\narray([0, 0, 0, 0, 0])\\n'"
      ]
     },
     "execution_count": 47,
     "metadata": {},
     "output_type": "execute_result"
    }
   ],
   "source": [
    "\"\"\"\n",
    "Function\n",
    "--------\n",
    "simulate_guess\n",
    "\n",
    "Return any strategy for guessing which door a prize is behind. This\n",
    "could be a random strategy, one that always guesses 2, whatever.\n",
    "\n",
    "Parameters\n",
    "----------\n",
    "nsim : int\n",
    "    The number of simulations to generate guesses for\n",
    "\n",
    "Returns\n",
    "-------\n",
    "guesses : array\n",
    "    An array of guesses. Each guess is a 0, 1, or 2\n",
    "\n",
    "Example\n",
    "-------\n",
    ">>> print simulate_guess(5)\n",
    "array([0, 0, 0, 0, 0])\n",
    "\"\"\"\n",
    "#Your code here"
   ]
  },
  {
   "cell_type": "markdown",
   "metadata": {},
   "source": [
    "Next, write a function, goat_door, to simulate randomly revealing one of the goat doors that a contestant didn't pick."
   ]
  },
  {
   "cell_type": "code",
   "execution_count": 49,
   "metadata": {
    "collapsed": true
   },
   "outputs": [],
   "source": [
    "\"\"\"\n",
    "Function\n",
    "--------\n",
    "goat_door\n",
    "\n",
    "Simulate the opening of a \"goat door\" that doesn't contain the prize,\n",
    "and is different from the contestants guess\n",
    "\n",
    "Parameters\n",
    "----------\n",
    "prizedoors : array\n",
    "    The door that the prize is behind in each simulation\n",
    "guesses : array\n",
    "    THe door that the contestant guessed in each simulation\n",
    "\n",
    "Returns\n",
    "-------\n",
    "goats : array\n",
    "    The goat door that is opened for each simulation. Each item is 0, 1, or 2, and is different\n",
    "    from both prizedoors and guesses\n",
    "\n",
    "Examples\n",
    "--------\n",
    ">>> print goat_door(np.array([0, 1, 2]), np.array([1, 1, 1]))\n",
    ">>> array([2, 2, 0])\n",
    "\"\"\"\n",
    "def possibilites(x):\n",
    "    return {\n",
    "        0:np.random.choice([1,2],p = [0.5,0.5]),\n",
    "        1:2,\n",
    "        2:np.random.choice([0,2],p = [0.5,0.5]),\n",
    "        3:0,\n",
    "        4:np.random.choice([0,1],p = [0.5,0.5])\n",
    "    }[x]\n",
    "\n",
    "def fillArray(doors,guesses):\n",
    "    answer = np.ndarray((len(doors),),int)\n",
    "    for i in range(0,len(doors)):\n",
    "        answer[i] = possibilites(doors[i] + guesses[i])\n",
    "    return answer\n",
    "        \n",
    "#Your code here"
   ]
  },
  {
   "cell_type": "markdown",
   "metadata": {},
   "source": [
    "\n",
    "Write a function, switch_guess, that represents the strategy of always switching a guess after the goat door is opened."
   ]
  },
  {
   "cell_type": "code",
   "execution_count": 50,
   "metadata": {},
   "outputs": [
    {
     "data": {
      "text/plain": [
       "'\\nFunction\\n--------\\nswitch_guess\\n\\nThe strategy that always switches a guess after the goat door is opened\\n\\nParameters\\n----------\\nguesses : array\\n     Array of original guesses, for each simulation\\ngoatdoors : array\\n     Array of revealed goat doors for each simulation\\n\\nReturns\\n-------\\nThe new door after switching. Should be different from both guesses and goatdoors\\n\\nExamples\\n--------\\n>>> print switch_guess(np.array([0, 1, 2]), np.array([1, 2, 1]))\\n>>> array([2, 0, 0])\\n\\ndef switch_guess(guesses,goatdoors):\\n    return fillArray(goatdoors,guesses)\\n'"
      ]
     },
     "execution_count": 50,
     "metadata": {},
     "output_type": "execute_result"
    }
   ],
   "source": [
    "\"\"\"\n",
    "Function\n",
    "--------\n",
    "switch_guess\n",
    "\n",
    "The strategy that always switches a guess after the goat door is opened\n",
    "\n",
    "Parameters\n",
    "----------\n",
    "guesses : array\n",
    "     Array of original guesses, for each simulation\n",
    "goatdoors : array\n",
    "     Array of revealed goat doors for each simulation\n",
    "\n",
    "Returns\n",
    "-------\n",
    "The new door after switching. Should be different from both guesses and goatdoors\n",
    "\n",
    "Examples\n",
    "--------\n",
    ">>> print switch_guess(np.array([0, 1, 2]), np.array([1, 2, 1]))\n",
    ">>> array([2, 0, 0])\n",
    "\n",
    "def switch_guess(guesses,goatdoors):\n",
    "    return fillArray(goatdoors,guesses)\n",
    "\"\"\"\n",
    "#Your code here"
   ]
  },
  {
   "cell_type": "markdown",
   "metadata": {},
   "source": [
    "Last function: write a win_percentage function that takes an array of guesses and prizedoors, and returns the percent of correct guesses"
   ]
  },
  {
   "cell_type": "code",
   "execution_count": 52,
   "metadata": {},
   "outputs": [
    {
     "data": {
      "text/plain": [
       "'\\nFunction\\n--------\\nwin_percentage\\n\\nCalculate the percent of times that a simulation of guesses is correct\\n\\nParameters\\n-----------\\nguesses : array\\n    Guesses for each simulation\\nprizedoors : array\\n    Location of prize for each simulation\\n\\nReturns\\n--------\\npercentage : number between 0 and 100\\n    The win percentage\\n\\nExamples\\n---------\\n>>> print win_percentage(np.array([0, 1, 2]), np.array([0, 0, 0]))\\n33.333\\n'"
      ]
     },
     "execution_count": 52,
     "metadata": {},
     "output_type": "execute_result"
    }
   ],
   "source": [
    "\"\"\"\n",
    "Function\n",
    "--------\n",
    "win_percentage\n",
    "\n",
    "Calculate the percent of times that a simulation of guesses is correct\n",
    "\n",
    "Parameters\n",
    "-----------\n",
    "guesses : array\n",
    "    Guesses for each simulation\n",
    "prizedoors : array\n",
    "    Location of prize for each simulation\n",
    "\n",
    "Returns\n",
    "--------\n",
    "percentage : number between 0 and 100\n",
    "    The win percentage\n",
    "\n",
    "Examples\n",
    "---------\n",
    ">>> print win_percentage(np.array([0, 1, 2]), np.array([0, 0, 0]))\n",
    "33.333\n",
    "\"\"\"\n",
    "#Your code here"
   ]
  },
  {
   "cell_type": "markdown",
   "metadata": {},
   "source": [
    "\n",
    "Now, put it together. Simulate 10000 games where contestant keeps his original guess, and 10000 games where the contestant switches his door after a goat door is revealed. Compute the percentage of time the contestant wins under either strategy. Is one strategy better than the other?"
   ]
  },
  {
   "cell_type": "code",
   "execution_count": null,
   "metadata": {
    "collapsed": true
   },
   "outputs": [],
   "source": [
    "#Your code here"
   ]
  }
 ],
 "metadata": {
  "kernelspec": {
   "display_name": "Python 3",
   "language": "python",
   "name": "python3"
  },
  "language_info": {
   "codemirror_mode": {
    "name": "ipython",
    "version": 3
   },
   "file_extension": ".py",
   "mimetype": "text/x-python",
   "name": "python",
   "nbconvert_exporter": "python",
   "pygments_lexer": "ipython3",
   "version": "3.6.0"
  }
 },
 "nbformat": 4,
 "nbformat_minor": 2
}
