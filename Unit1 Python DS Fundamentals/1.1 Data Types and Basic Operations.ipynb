{
 "cells": [
  {
   "cell_type": "markdown",
   "metadata": {},
   "source": [
    "![Image of Python](https://www.python.org/static/community_logos/python-logo-master-v3-TM.png)\n",
    "\n",
    "**Hello!** And welcome to your first lesson in Interactive Data Science, with Python. What you are using right now is called an Interactive Python notebook or IPython notebook, which is basically a mix between a web page and a Python compiler or interpreter. Basically, you can write regular text and code here, which makes it really useful.\n",
    "\n",
    "Basic functionalities:\n",
    "\n",
    "- To run a cell of code or text, you can press Shift + Enter or click in the play like symbol in the top menu.\n",
    "\n",
    "- To create a new cell, you can either run a cell as stated previously, or select Insert in the top menu, and then click on Insert Cell Above/Below.\n",
    "\n",
    "- To run all cells from a certain point, you can use the functionalities found in the Cell dropdown menu, like Run All Cells Above/Below.\n",
    "\n",
    "With that out of the way, let's go straight to the action!\n"
   ]
  },
  {
   "cell_type": "markdown",
   "metadata": {},
   "source": [
    "## 1. Basic Data Types"
   ]
  },
  {
   "cell_type": "markdown",
   "metadata": {},
   "source": [
    "In Data Science, as the name suggests, you'll be working data all the time. *All* the time. And to work with this data, you'll need some way to store it, manipulate it, visualize it, etc. Programming helps us a lot with that, since it can store data into objects called **variables**. In a lot of programming languages you have to specify the type of the data that is being stored, but python is *different*. You see, Python think's it's too smart for trivial things like that, so it doesn't need to know the type of the variable beforehand. Don't believe me? Check it out:"
   ]
  },
  {
   "cell_type": "code",
   "execution_count": 1,
   "metadata": {
    "collapsed": false
   },
   "outputs": [
    {
     "name": "stdout",
     "output_type": "stream",
     "text": [
      "Hello, World!\n"
     ]
    }
   ],
   "source": [
    "salute = \"Hello, World!\"\n",
    "print(salute)"
   ]
  },
  {
   "cell_type": "markdown",
   "metadata": {},
   "source": [
    "*See how simple it is!* That's basically how you declare a variable in Python, and print it so the world can see. In this case, our **salute** variable, was a string data type, which is a series of characters. \n",
    "\n",
    "#### Your Turn.\n",
    "Say hi to the world by saying with your name! Replace the empty \" \" after my_salute with a salutation and your name. Then print it."
   ]
  },
  {
   "cell_type": "code",
   "execution_count": 3,
   "metadata": {
    "collapsed": true
   },
   "outputs": [],
   "source": [
    "#Your code here.\n",
    "my_salute = \" \""
   ]
  },
  {
   "cell_type": "markdown",
   "metadata": {},
   "source": [
    "So now that we have a grasp on how printing and setting variable works, let's find out more about different data types. Some of these include:\n",
    "\n",
    "- Integers: represent numbers with no decimals (-3,-2,-1,0,1,2,3...)\n",
    "- Float: represent floating point numbers, or real numbers ( pi,2.71,0.88888888,...)\n",
    "- Booleans: Represent binary values True ( 1 ) and False ( 0 ). \n",
    "- Strings: Represent arrays of individual characters. \"Burrito\" and \"A\" are both strings.\n",
    "\n",
    "Setting data types like these is the same as with strings."
   ]
  },
  {
   "cell_type": "code",
   "execution_count": 4,
   "metadata": {
    "collapsed": false
   },
   "outputs": [
    {
     "name": "stdout",
     "output_type": "stream",
     "text": [
      "2017\n",
      "12.5\n",
      "True\n",
      "My name\n"
     ]
    }
   ],
   "source": [
    "year = 2017\n",
    "balance = 12.50\n",
    "im_learning = True\n",
    "name = \"My name\"\n",
    "\n",
    "print(year)\n",
    "print(balance)\n",
    "print(im_learning)\n",
    "print(name)"
   ]
  },
  {
   "cell_type": "markdown",
   "metadata": {},
   "source": [
    "#### Now your turn. \n",
    "\n",
    "You need to fill a form with some information about yourself and print it, for...reasons. So go ahead and fill it. Use the appropriate data type for each variable."
   ]
  },
  {
   "cell_type": "code",
   "execution_count": 7,
   "metadata": {
    "collapsed": false
   },
   "outputs": [],
   "source": [
    "#Your code here.\n",
    "name = \" \"\n",
    "age = \" \"\n",
    "weight = \" \"\n",
    "is_single = \" \"\n",
    "is_learning = \" \"\n",
    "nationality = \" \"\n",
    "date_of_birth = \" \""
   ]
  },
  {
   "cell_type": "markdown",
   "metadata": {},
   "source": [
    "Great, you are now a master at declaring variables. But, creating variables to never use them is pointless. This is where operations with variables come along, since each type of data has their own basic operations."
   ]
  },
  {
   "cell_type": "markdown",
   "metadata": {},
   "source": [
    "## Basic Operations"
   ]
  },
  {
   "cell_type": "markdown",
   "metadata": {},
   "source": [
    "### Basic operations with integers and floating point numbers."
   ]
  },
  {
   "cell_type": "markdown",
   "metadata": {},
   "source": [
    "The operations that can be done with numeric data types, are the same that you would do with any old calculator. You have sums, substractions, divisions, the works."
   ]
  },
  {
   "cell_type": "code",
   "execution_count": 11,
   "metadata": {
    "collapsed": false
   },
   "outputs": [
    {
     "name": "stdout",
     "output_type": "stream",
     "text": [
      "17\n",
      "1.3499999999999999\n"
     ]
    }
   ],
   "source": [
    "a = 2 + 3 * 5\n",
    "b = (5.3 - 2.6)/2\n",
    "print(a)\n",
    "print(b)"
   ]
  },
  {
   "cell_type": "markdown",
   "metadata": {},
   "source": [
    "Some other operations include exponentials  and modulo or remainder of the division."
   ]
  },
  {
   "cell_type": "code",
   "execution_count": 14,
   "metadata": {
    "collapsed": false
   },
   "outputs": [
    {
     "name": "stdout",
     "output_type": "stream",
     "text": [
      "9\n",
      "2.0\n",
      "11.0\n",
      "1\n"
     ]
    }
   ],
   "source": [
    "exponential = 3**2\n",
    "root = 4**(1/2)\n",
    "suma = root + exponential\n",
    "modulo = 5%2\n",
    "\n",
    "print(exponential)\n",
    "print(root)\n",
    "print(suma)\n",
    "print(modulo)"
   ]
  },
  {
   "cell_type": "markdown",
   "metadata": {},
   "source": [
    "You can also combine floating point numbers and integers in expressions. However, the result will be a floating point number."
   ]
  },
  {
   "cell_type": "code",
   "execution_count": 16,
   "metadata": {
    "collapsed": false
   },
   "outputs": [
    {
     "name": "stdout",
     "output_type": "stream",
     "text": [
      "10.5\n",
      "1.0\n"
     ]
    }
   ],
   "source": [
    "add = 3.5 + 1 + 6\n",
    "print(add)\n",
    "print(1.0/1)"
   ]
  },
  {
   "cell_type": "markdown",
   "metadata": {},
   "source": [
    "#### Now, your turn.\n",
    "\n",
    "If you are working with financial data, that includes currency in 2 or more  different currencies, it would be best to convert them into a single unit. You have three bank accounts with money from three different currencies (so rich). However, you want to have it in one single currency.  Convert each one to a single currency, and calculate the total value of the money you have."
   ]
  },
  {
   "cell_type": "code",
   "execution_count": 17,
   "metadata": {
    "collapsed": true
   },
   "outputs": [],
   "source": [
    "pounds = 25.30\n",
    "dollars = 127.7\n",
    "euros = 21\n",
    "\n",
    "#Your code here.\n",
    "total = \" \""
   ]
  },
  {
   "cell_type": "markdown",
   "metadata": {},
   "source": [
    "### Basic Operations with Strings "
   ]
  },
  {
   "cell_type": "markdown",
   "metadata": {},
   "source": [
    "Operations with strings are different than the ones with numbers. I'm just going to go with the ones that are most useful in your Data Science future. \n",
    "\n",
    "##### Concatenation"
   ]
  },
  {
   "cell_type": "markdown",
   "metadata": {},
   "source": [
    "Concatenation is basically  addition, but for strings. It's denoted by the + symbol, just like with numbers. "
   ]
  },
  {
   "cell_type": "code",
   "execution_count": 18,
   "metadata": {
    "collapsed": false
   },
   "outputs": [
    {
     "name": "stdout",
     "output_type": "stream",
     "text": [
      "BaconCheeseBurger\n"
     ]
    }
   ],
   "source": [
    "bacon = \"Bacon\"\n",
    "cheese = \"Cheese\"\n",
    "burger = \"Burger\"\n",
    "print(bacon+cheese+burger)"
   ]
  },
  {
   "cell_type": "markdown",
   "metadata": {},
   "source": [
    "You can also mix in a  hard coded string while concatenating."
   ]
  },
  {
   "cell_type": "code",
   "execution_count": 19,
   "metadata": {
    "collapsed": false
   },
   "outputs": [
    {
     "name": "stdout",
     "output_type": "stream",
     "text": [
      "Cookies and Cream\n"
     ]
    }
   ],
   "source": [
    "cookies = \"Cookies\"\n",
    "cream = \"Cream\"\n",
    "print(cookies + \" and \" + cream)"
   ]
  },
  {
   "cell_type": "markdown",
   "metadata": {},
   "source": [
    "This will come in handy in the future."
   ]
  },
  {
   "cell_type": "markdown",
   "metadata": {},
   "source": [
    "#### Now your turn.\n",
    "\n",
    "Imagine you are entering some new, and unknown place, to hang out with friends. You present yourself to a stranger and say:"
   ]
  },
  {
   "cell_type": "code",
   "execution_count": 20,
   "metadata": {
    "collapsed": true
   },
   "outputs": [],
   "source": [
    "salute = \"Hi, my name is \"\n",
    "\n",
    "#Your code here\n",
    "\n",
    "first_name = \" \"\n",
    "last_name = \" \"\n",
    "final_words = \" \""
   ]
  },
  {
   "cell_type": "markdown",
   "metadata": {},
   "source": [
    "With this knowledge, you are ready for some exercises."
   ]
  },
  {
   "cell_type": "markdown",
   "metadata": {},
   "source": [
    "## Exercises"
   ]
  },
  {
   "cell_type": "markdown",
   "metadata": {},
   "source": [
    "1. Write a cell  which accepts the radius of a circle R  and prints the area of a circle A. \n",
    "\n",
    "Hint: The area of a circle is  pi * r^2 "
   ]
  },
  {
   "cell_type": "code",
   "execution_count": 21,
   "metadata": {
    "collapsed": true
   },
   "outputs": [],
   "source": [
    "#Your code here."
   ]
  },
  {
   "cell_type": "markdown",
   "metadata": {},
   "source": [
    "2.Write a cell which, given a Day a Month and a Year, prints the data in the format MM/DD/YYYY"
   ]
  },
  {
   "cell_type": "code",
   "execution_count": 22,
   "metadata": {
    "collapsed": true
   },
   "outputs": [],
   "source": [
    "#Your code here."
   ]
  },
  {
   "cell_type": "markdown",
   "metadata": {},
   "source": [
    "3.Write and print the variables of what you would think would be in a website registration form."
   ]
  },
  {
   "cell_type": "code",
   "execution_count": 23,
   "metadata": {
    "collapsed": true
   },
   "outputs": [],
   "source": [
    "#Your code here."
   ]
  },
  {
   "cell_type": "markdown",
   "metadata": {},
   "source": [
    "## Extra reading."
   ]
  },
  {
   "cell_type": "markdown",
   "metadata": {},
   "source": [
    "http://www.diveintopython3.net/native-datatypes.html -Sections 1 through 3 "
   ]
  },
  {
   "cell_type": "code",
   "execution_count": null,
   "metadata": {
    "collapsed": true
   },
   "outputs": [],
   "source": []
  }
 ],
 "metadata": {
  "kernelspec": {
   "display_name": "Python 3",
   "language": "python",
   "name": "python3"
  },
  "language_info": {
   "codemirror_mode": {
    "name": "ipython",
    "version": 3
   },
   "file_extension": ".py",
   "mimetype": "text/x-python",
   "name": "python",
   "nbconvert_exporter": "python",
   "pygments_lexer": "ipython3",
   "version": "3.6.0"
  }
 },
 "nbformat": 4,
 "nbformat_minor": 2
}
