{
 "cells": [
  {
   "cell_type": "markdown",
   "metadata": {},
   "source": [
    "![title](https://image.slidesharecdn.com/python4datasciencepythonbrasil-151110002755-lva1-app6892/95/python-for-data-science-python-brasil-11-2015-7-638.jpg?cb=1447115748)"
   ]
  },
  {
   "cell_type": "markdown",
   "metadata": {},
   "source": [
    "So you survived the first week. You must now be familiar with the Python syntax, and some of the tools and packages that you will use in your day to day career as a data scientist.  These make working with data so much faster and easier. However, having the tools to work with data is absolutely useless if you don't actually have the data. So, in this notebook, you'll learn some important ways of reading and obtaining data. "
   ]
  },
  {
   "cell_type": "markdown",
   "metadata": {},
   "source": [
    "## Reading data from text files. "
   ]
  },
  {
   "cell_type": "markdown",
   "metadata": {},
   "source": [
    "Text files are divided in a lot of categories. Some are tab delimited files (.tab), others are comma-separated value files (.csv) and others are just plain old text files (.txt). For the latter, python is built in with a way of reading  data, which is the **open** statement."
   ]
  },
  {
   "cell_type": "code",
   "execution_count": 2,
   "metadata": {
    "collapsed": false
   },
   "outputs": [
    {
     "name": "stdout",
     "output_type": "stream",
     "text": [
      "Look, I was gonna go easy on you and not to hurt your feelings\n",
      "But I'm only going to get this one chance\n",
      "Something's wrong, I can feel it (Six minutes, Slim Shady, you're on)\n",
      "Just a feeling I've got, like something's about to happen, but I don't know what\n",
      "If that means, what I think it means, we're in trouble, big trouble,\n",
      "And if he is as bananas as you say, I'm not taking any chances\n",
      "You were just what the doctor ordered\n",
      "I'm beginning to feel like a Rap God, Rap God\n",
      "All my people from the front to the back nod, back nod\n",
      "Now who thinks their arms are long enough to slap box, slap box?\n",
      "They said I rap like a robot, so call me Rapbot\n"
     ]
    }
   ],
   "source": [
    "Text_file = open(\"text.txt\",\"r\") #Specify that the file is meant to be read with the \"r\" parameter.\n",
    "Text_content = Text_file.read() #Use the read method to extract the text of the file.\n",
    "Text_file.close() #Close the connection to the file, just in case.\n",
    "print(Text_content)"
   ]
  },
  {
   "cell_type": "markdown",
   "metadata": {},
   "source": [
    "As you can see, the content of the text file was printed as a single string. We used the \"r\" parameter on the open command to specify that we are just going to the read the file and not modify it.  Other parameters include:\n",
    "\n",
    "- **w** – Write mode which is used to edit and write new information to the file (any existing files with the same name will be erased when this mode is activated) \n",
    "- **a** – Appending mode, which is used to add new data to the end of the file; that is new information is automatically amended to the end \n",
    "- **r+** – Special read and write mode, which is used to handle both actions when working with a file \n",
    "\n",
    "For example, to add data at the end of a file:"
   ]
  },
  {
   "cell_type": "code",
   "execution_count": 7,
   "metadata": {
    "collapsed": false
   },
   "outputs": [
    {
     "name": "stdout",
     "output_type": "stream",
     "text": [
      "Look, I was gonna go easy on you and not to hurt your feelings\n",
      "But I'm only going to get this one chance\n",
      "Something's wrong, I can feel it (Six minutes, Slim Shady, you're on)\n",
      "Just a feeling I've got, like something's about to happen, but I don't know what\n",
      "If that means, what I think it means, we're in trouble, big trouble,\n",
      "And if he is as bananas as you say, I'm not taking any chances\n",
      "You were just what the doctor ordered\n",
      "I'm beginning to feel like a Rap God, Rap God\n",
      "All my people from the front to the back nod, back nod\n",
      "Now who thinks their arms are long enough to slap box, slap box?\n",
      "They said I rap like a robot, so call me Rapbot\n",
      " But for me to rap like a computer must be in my genes\n",
      "But for me to rap like a computer must be in my genes\n"
     ]
    }
   ],
   "source": [
    "Write_File = open(\"text.txt\",\"a\")\n",
    "Write_File.write(\"\\n\") #Add a new line.\n",
    "Write_File.write(\"But for me to rap like a computer must be in my genes\") \n",
    "Write_File.close() #Close the connection.\n",
    "\n",
    "Lyrics = open(\"text.txt\",\"r\").read() #To get the text directly\n",
    "print(Lyrics)"
   ]
  },
  {
   "cell_type": "markdown",
   "metadata": {},
   "source": [
    "Since the data from the file is read as a string, you can manipulate the content just as if it was a regular old string.\n",
    "\n",
    "#### Now your turn.\n",
    "\n",
    "Go on google and search for the lyrics of a song you like. Write them into a text file using an editor such as notepad. Then open and read it in python, and separate each verse into a list. \n",
    "\n",
    "**Hint** You can use the string method called Split() for this!"
   ]
  },
  {
   "cell_type": "code",
   "execution_count": 8,
   "metadata": {
    "collapsed": true
   },
   "outputs": [],
   "source": [
    "#Your code here."
   ]
  },
  {
   "cell_type": "markdown",
   "metadata": {},
   "source": [
    "## Reading data from Text separated by a delimiter."
   ]
  },
  {
   "cell_type": "markdown",
   "metadata": {},
   "source": [
    "Woo that's a long title. In english, this means text files in which the content is separated by a comma, like csv files, or text in which data is separated by a tab, like .tab files. Tab files are rare, but csv files is usually the standard for small to medium size files in data science. For larger files, there exist .gz files or gzip which are compressed text files. You should have some experience with .csv files by now, since you completed chapter 5 of Unit 1, and you completed the Unit 1 project (right?). However, one useful thing about the pandas library, is that you can use the read_csv method for reading files that are separated by a different character! "
   ]
  },
  {
   "cell_type": "code",
   "execution_count": 11,
   "metadata": {
    "collapsed": false
   },
   "outputs": [
    {
     "data": {
      "text/html": [
       "<div>\n",
       "<table border=\"1\" class=\"dataframe\">\n",
       "  <thead>\n",
       "    <tr style=\"text-align: right;\">\n",
       "      <th></th>\n",
       "      <th>0</th>\n",
       "      <th>1</th>\n",
       "    </tr>\n",
       "  </thead>\n",
       "  <tbody>\n",
       "    <tr>\n",
       "      <th>0</th>\n",
       "      <td>1</td>\n",
       "      <td>Do you slide on all your nights like this?</td>\n",
       "    </tr>\n",
       "    <tr>\n",
       "      <th>1</th>\n",
       "      <td>2</td>\n",
       "      <td>Do you try on all your nights like this? (I mi...</td>\n",
       "    </tr>\n",
       "    <tr>\n",
       "      <th>2</th>\n",
       "      <td>3</td>\n",
       "      <td>Put some spotlight on the slide</td>\n",
       "    </tr>\n",
       "    <tr>\n",
       "      <th>3</th>\n",
       "      <td>4</td>\n",
       "      <td>Whatever comes, comes through clear</td>\n",
       "    </tr>\n",
       "    <tr>\n",
       "      <th>4</th>\n",
       "      <td>5</td>\n",
       "      <td>Do you slide on all your nights like this?</td>\n",
       "    </tr>\n",
       "    <tr>\n",
       "      <th>5</th>\n",
       "      <td>6</td>\n",
       "      <td>Do you try on all your nights like this? (I mi...</td>\n",
       "    </tr>\n",
       "    <tr>\n",
       "      <th>6</th>\n",
       "      <td>7</td>\n",
       "      <td>Put some spotlight on the side</td>\n",
       "    </tr>\n",
       "    <tr>\n",
       "      <th>7</th>\n",
       "      <td>8</td>\n",
       "      <td>And whatever comes, comes through clear</td>\n",
       "    </tr>\n",
       "  </tbody>\n",
       "</table>\n",
       "</div>"
      ],
      "text/plain": [
       "   0                                                  1\n",
       "0  1         Do you slide on all your nights like this?\n",
       "1  2  Do you try on all your nights like this? (I mi...\n",
       "2  3                    Put some spotlight on the slide\n",
       "3  4                Whatever comes, comes through clear\n",
       "4  5         Do you slide on all your nights like this?\n",
       "5  6  Do you try on all your nights like this? (I mi...\n",
       "6  7                     Put some spotlight on the side\n",
       "7  8            And whatever comes, comes through clear"
      ]
     },
     "execution_count": 11,
     "metadata": {},
     "output_type": "execute_result"
    }
   ],
   "source": [
    "import pandas as pd\n",
    "#Specify the separator as a tab or \"\\t\", and specify that the file has no headers on the first line.\n",
    "Slide = pd.read_csv(\"slide.tab\",sep = \"\\t\",header = None) \n",
    "Slide"
   ]
  },
  {
   "cell_type": "markdown",
   "metadata": {},
   "source": [
    "Other separators that you can specify on read_csv are: \n",
    "    \n",
    "- **\";\"** for semi-colon demilited files.\n",
    "- **\"\\s+\"** for space separated files.\n",
    "\n",
    "You can also create custom separators using regular expressions, but that is a subject for another day."
   ]
  },
  {
   "cell_type": "markdown",
   "metadata": {},
   "source": [
    "#### Your Turn now. \n",
    "\n",
    "Find the lyrics to another song that you like.  Put a number before each line, and put a semi-colon (;) after every number. Afterwards, read the file using read_csv and using the appropriate delimiter."
   ]
  },
  {
   "cell_type": "code",
   "execution_count": 12,
   "metadata": {
    "collapsed": true
   },
   "outputs": [],
   "source": [
    "#Your code here."
   ]
  },
  {
   "cell_type": "markdown",
   "metadata": {},
   "source": [
    "Pandas can also read data from data from a lot of formats and sources, like databases, Hadoop Distributed File Systems and Cloud Distributed Systems (Big data Data sources basically). For more information look no further than here: http://pandas.pydata.org/pandas-docs/stable/io.html"
   ]
  },
  {
   "cell_type": "markdown",
   "metadata": {},
   "source": [
    "## Using APIs to obtain data from websites."
   ]
  },
  {
   "cell_type": "markdown",
   "metadata": {},
   "source": [
    "A lot of websites offer an interface called an API , or Application Programming Interface. In layman's terms, it allows two programs to communicate with each other. As a Data Scientist, you would use these APIs to obtain structured data from big and populat websites like Twitter, Facebook, Youtube and not Google (they are kinda stingy with this at the time of writing this). \n",
    "This structured data is obtained in a format called **json** which stands for Java Syntax Object Notation. What it stands for doesn't matter, what does matter is the content of these jsons.  In Python terms, imagine they are like dictionaries inside dictionaries inside dictionaries inside dictio.... you get the idea. Here's an example json:"
   ]
  },
  {
   "cell_type": "markdown",
   "metadata": {},
   "source": [
    "![title](https://forums.mulesoft.com/storage/temp/455-json-example.png)"
   ]
  },
  {
   "cell_type": "markdown",
   "metadata": {},
   "source": [
    "This json contains one entity, \"users\". Each user has various attributes like first name, last name and join date. If you watch closely, you can see that the join data is another structure within itself, that contains the month, day and year of joining. These attributes are like the keys of a dictionary, and the values are the specific data for each user. Let's try recreating this json on a Python dictionary: "
   ]
  },
  {
   "cell_type": "code",
   "execution_count": 15,
   "metadata": {
    "collapsed": false
   },
   "outputs": [
    {
     "data": {
      "text/plain": [
       "{'users': [{'firstName': 'Ray',\n",
       "   'joined': {'day': 12, 'month': 'January', 'year': 2012},\n",
       "   'lastName': 'Villalobos'},\n",
       "  {'firstName': 'John',\n",
       "   'joined': {'day': 28, 'month': 'April', 'year': 2010},\n",
       "   'lastName': 'Jones'}]}"
      ]
     },
     "execution_count": 15,
     "metadata": {},
     "output_type": "execute_result"
    }
   ],
   "source": [
    "users = {\"users\":[\n",
    "                    {\n",
    "                        \"firstName\":\"Ray\",\n",
    "                        \"lastName\":\"Villalobos\",\n",
    "                        \"joined\":{\n",
    "                                \"month\":\"January\",\n",
    "                                \"day\":12,\n",
    "                                \"year\":2012\n",
    "                        }\n",
    "                    },\n",
    "                    {\n",
    "                        \"firstName\":\"John\",\n",
    "                        \"lastName\":\"Jones\",\n",
    "                        \"joined\": {\n",
    "                            \"month\":\"April\",\n",
    "                            \"day\":28,\n",
    "                            \"year\":2010\n",
    "                        }\n",
    "                    }\n",
    "                ]\n",
    "    \n",
    "        }\n",
    "users"
   ]
  },
  {
   "cell_type": "markdown",
   "metadata": {},
   "source": [
    "Nice! We created the json structure, but it's confusing isn't it?  So have it in a more useful structure, let's first save the file as a .txt file, then read it and manipulate it as a json. We'll use the built in **json** Python library"
   ]
  },
  {
   "cell_type": "code",
   "execution_count": 22,
   "metadata": {
    "collapsed": false
   },
   "outputs": [],
   "source": [
    "string_users = str(users) #Convert to string.\n",
    "string_users = string_users.replace(\"\\'\",\"\\\"\")  #Replace single quotes with double quotes, so the file is read properly later.\n",
    "file = open(\"users.txt\",\"w\")\n",
    "file.write(string_users)\n",
    "file.close()"
   ]
  },
  {
   "cell_type": "code",
   "execution_count": 23,
   "metadata": {
    "collapsed": false
   },
   "outputs": [
    {
     "data": {
      "text/plain": [
       "{'users': [{'firstName': 'Ray',\n",
       "   'joined': {'day': 12, 'month': 'January', 'year': 2012},\n",
       "   'lastName': 'Villalobos'},\n",
       "  {'firstName': 'John',\n",
       "   'joined': {'day': 28, 'month': 'April', 'year': 2010},\n",
       "   'lastName': 'Jones'}]}"
      ]
     },
     "execution_count": 23,
     "metadata": {},
     "output_type": "execute_result"
    }
   ],
   "source": [
    "import json\n",
    "#with allows you to open a file and use it as a variable, and closes it when the with block ends, like an if or a while.\n",
    "userjson = \"\"\n",
    "with open(\"users.txt\") as userfile:\n",
    "    userjson = json.load(userfile)\n",
    "\n",
    "userjson"
   ]
  },
  {
   "cell_type": "markdown",
   "metadata": {},
   "source": [
    "And now we have read a json encoded file into our python notebook. We can then work with it similar to how we would work with a dictionary."
   ]
  },
  {
   "cell_type": "code",
   "execution_count": 30,
   "metadata": {
    "collapsed": false
   },
   "outputs": [
    {
     "name": "stdout",
     "output_type": "stream",
     "text": [
      "All users\n",
      "[{'firstName': 'Ray', 'lastName': 'Villalobos', 'joined': {'month': 'January', 'day': 12, 'year': 2012}}, {'firstName': 'John', 'lastName': 'Jones', 'joined': {'month': 'April', 'day': 28, 'year': 2010}}]\n",
      "Join date info of first user\n",
      "{'month': 'January', 'day': 12, 'year': 2012}\n",
      "Year in which the second employee joined.\n",
      "2010\n"
     ]
    }
   ],
   "source": [
    "print(\"All users\")\n",
    "print(userjson[\"users\"]) #Get all the users\n",
    "\n",
    "print(\"Join date info of first user\")\n",
    "print(userjson[\"users\"][0][\"joined\"]) #Get the join date information of the first user.\n",
    "\n",
    "print(\"Year in which the second employee joined.\")\n",
    "print(userjson[\"users\"][1][\"joined\"][\"year\"])"
   ]
  },
  {
   "cell_type": "markdown",
   "metadata": {},
   "source": [
    "But why is all this important? Well if you query an API from the internet, you'll receieve the data as a json, and you'll need a way to access it. Luckily, there's a site called www.jsontest.com which allows us to test with no repercussions. Let's try it out:"
   ]
  },
  {
   "cell_type": "code",
   "execution_count": 36,
   "metadata": {
    "collapsed": false
   },
   "outputs": [
    {
     "name": "stdout",
     "output_type": "stream",
     "text": [
      "{'time': '08:17:56 PM', 'milliseconds_since_epoch': 1494447476438, 'date': '05-10-2017'}\n",
      "Time of request at the server :08:17:56 PM\n",
      "Today's date:05-10-2017\n"
     ]
    }
   ],
   "source": [
    "from urllib import request #Very useful library for working with calling websites using Python.\n",
    "\n",
    "datetime = \" \"\n",
    "#Open the web page, similar to how we opened the text file with the with statement.\n",
    "with request.urlopen(\"http://date.jsontest.com\") as url:\n",
    "    datetime = json.loads(url.read().decode())\n",
    "    print(datetime)\n",
    "    \n",
    "print(\"Time of request at the server :\" + str(datetime[\"time\"]))\n",
    "print(\"Today's date:\" + str(datetime[\"date\"]))\n"
   ]
  },
  {
   "cell_type": "markdown",
   "metadata": {},
   "source": [
    "#### Now your turn.\n",
    "Go to www.jsontest.com and pick one the endpoints that you want. Get the data from the endpoint and print the details that you want. Don't use the date or time APIs ones though."
   ]
  },
  {
   "cell_type": "code",
   "execution_count": 37,
   "metadata": {
    "collapsed": true
   },
   "outputs": [],
   "source": [
    "#Your code here."
   ]
  },
  {
   "cell_type": "markdown",
   "metadata": {},
   "source": [
    "Requesting data from bigger websites like Youtube requires more information, like a search query in the URL or the website link in human terms, and an API key that you can get for free at their site. In fact, that's just your homework for this notebook."
   ]
  },
  {
   "cell_type": "markdown",
   "metadata": {},
   "source": [
    "## Exercise"
   ]
  },
  {
   "cell_type": "markdown",
   "metadata": {},
   "source": [
    "Follow this guide for setting up and using the Youtube Data API : https://developers.google.com/youtube/v3/getting-started\n",
    "After you are ready, use the API to search for any video, obtain the search results as JSON, and print the titles of the videos that you found. \n",
    "\n",
    "**Hint**: You may find this link extremely helpful : https://developers.google.com/youtube/v3/code_samples/python#search_by_keyword"
   ]
  },
  {
   "cell_type": "code",
   "execution_count": 38,
   "metadata": {
    "collapsed": true
   },
   "outputs": [],
   "source": [
    "#Your long code here."
   ]
  },
  {
   "cell_type": "markdown",
   "metadata": {},
   "source": [
    "If you would like more information about other APIs, you can use the API directory right here : https://www.programmableweb.com/apis/directory. It's almost always better to use an API to obtain data from a website, as it's way easier to work with. However, sometimes using an API is either not possible, or too costly. When that happens, you'll see in the next chapter what to do. \n",
    "\n",
    "To prepare yourself for the next chapter, it would be really useful to read this: https://www.w3schools.com/html/html_intro.asp \n",
    "and this : https://www.w3schools.com/tags/\n",
    "\n"
   ]
  },
  {
   "cell_type": "code",
   "execution_count": null,
   "metadata": {
    "collapsed": true
   },
   "outputs": [],
   "source": []
  }
 ],
 "metadata": {
  "kernelspec": {
   "display_name": "Python 3",
   "language": "python",
   "name": "python3"
  },
  "language_info": {
   "codemirror_mode": {
    "name": "ipython",
    "version": 3
   },
   "file_extension": ".py",
   "mimetype": "text/x-python",
   "name": "python",
   "nbconvert_exporter": "python",
   "pygments_lexer": "ipython3",
   "version": "3.6.0"
  }
 },
 "nbformat": 4,
 "nbformat_minor": 2
}
