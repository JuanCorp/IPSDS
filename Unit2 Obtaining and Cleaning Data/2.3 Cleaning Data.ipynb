{
 "cells": [
  {
   "cell_type": "markdown",
   "metadata": {},
   "source": [
    "![title](http://www.datacleansing.net.au/Images/Site/DG_Data_Cleansing_Cycle_300px.png)"
   ]
  },
  {
   "cell_type": "markdown",
   "metadata": {},
   "source": [
    "So far, you have dealt with fairly clean data in the notebooks. **However, in the real world, most data isn't this clean.** As you saw in the getting data from the web notebook, there are cases where your data source isn't the cleanest one. Or other times, the application that is filling the dataset that you are using is already dirty! Thankfully, there are a lot of ways you can clean dirty data. In this notebook, we are going to concentrate  on Standardizing, Normalizing and Deduplicating data. First, we'll have to get a dirty dataset of course, and clean it."
   ]
  },
  {
   "cell_type": "markdown",
   "metadata": {},
   "source": [
    "## Standardizing data"
   ]
  },
  {
   "cell_type": "markdown",
   "metadata": {},
   "source": [
    "The process of standardizing data, is to modify data that exists in various formats into a one single format, without losing the meaning of the data. This happens very commonly with dates and times, since there are a lot of formats for dates around the world, and sometimes timed data is in 24-Hour format and others in 12-Hour format.  Let's see an example:"
   ]
  },
  {
   "cell_type": "code",
   "execution_count": 21,
   "metadata": {
    "collapsed": false
   },
   "outputs": [
    {
     "name": "stdout",
     "output_type": "stream",
     "text": [
      "5/15/2017\n",
      "12/18/2016\n",
      "4/22/2017\n",
      "3/14/2017\n",
      "06/22/2014\n"
     ]
    }
   ],
   "source": [
    "dates = [\"5/15/2017\",\"18/12/2016\",\"4/22/2017\",\"3/14/2017\",\"22/6/2014\"] #Dates in two different formats: MM/DD/YYYY and DD/MM/YYYY\n",
    "\n",
    "import datetime\n",
    "def standard_date(date):\n",
    "    #Try, except statement, for catching errors. \n",
    "    #This statement tries to convert a date in one format to another. If the format doesn't match, return the original date.\n",
    "    #Try except is similar to if else, but it's meant to handle errors that stop the execution of the program.\n",
    "    try:\n",
    "        return datetime.datetime.strptime(date, '%d/%m/%Y').strftime('%m/%d/%Y')\n",
    "    except:\n",
    "        return date\n",
    "\n",
    "for i in range(0,len(dates)):\n",
    "    date = standard_date(dates[i])\n",
    "    print(date)\n",
    "    dates[i] = date"
   ]
  },
  {
   "cell_type": "markdown",
   "metadata": {},
   "source": [
    "This is  a general purpose example to work with dates with strings, using the datetime library. Strptime extracts the date in the given format, in this case day/month/year, and converts it to another format with strftime, month/day/year. The try,except routine is new, but as the comments explain, it's like an if else but made for catching and handling those nasty Errors that stop the execution of the code. Another way to do this would be extracting the year, day and month individually, then pasting them together in the desired format or creating a dataframe with the individual values:"
   ]
  },
  {
   "cell_type": "code",
   "execution_count": 25,
   "metadata": {
    "collapsed": false
   },
   "outputs": [
    {
     "name": "stdout",
     "output_type": "stream",
     "text": [
      "2017-5-15\n",
      "2016-12-18\n",
      "2017-4-22\n",
      "2017-3-14\n",
      "2014-6-22\n"
     ]
    },
    {
     "data": {
      "text/html": [
       "<div>\n",
       "<table border=\"1\" class=\"dataframe\">\n",
       "  <thead>\n",
       "    <tr style=\"text-align: right;\">\n",
       "      <th></th>\n",
       "      <th>Day</th>\n",
       "      <th>Month</th>\n",
       "      <th>Year</th>\n",
       "    </tr>\n",
       "  </thead>\n",
       "  <tbody>\n",
       "    <tr>\n",
       "      <th>0</th>\n",
       "      <td>15</td>\n",
       "      <td>5</td>\n",
       "      <td>2017</td>\n",
       "    </tr>\n",
       "    <tr>\n",
       "      <th>1</th>\n",
       "      <td>18</td>\n",
       "      <td>12</td>\n",
       "      <td>2016</td>\n",
       "    </tr>\n",
       "    <tr>\n",
       "      <th>2</th>\n",
       "      <td>22</td>\n",
       "      <td>4</td>\n",
       "      <td>2017</td>\n",
       "    </tr>\n",
       "    <tr>\n",
       "      <th>3</th>\n",
       "      <td>14</td>\n",
       "      <td>3</td>\n",
       "      <td>2017</td>\n",
       "    </tr>\n",
       "    <tr>\n",
       "      <th>4</th>\n",
       "      <td>22</td>\n",
       "      <td>6</td>\n",
       "      <td>2014</td>\n",
       "    </tr>\n",
       "  </tbody>\n",
       "</table>\n",
       "</div>"
      ],
      "text/plain": [
       "   Day  Month  Year\n",
       "0   15      5  2017\n",
       "1   18     12  2016\n",
       "2   22      4  2017\n",
       "3   14      3  2017\n",
       "4   22      6  2014"
      ]
     },
     "execution_count": 25,
     "metadata": {},
     "output_type": "execute_result"
    }
   ],
   "source": [
    "import pandas as pd\n",
    "years = []\n",
    "months = []\n",
    "days = []\n",
    "\n",
    "for date in dates:\n",
    "    date_object = datetime.datetime.strptime(date,\"%m/%d/%Y\")\n",
    "    years.append(date_object.year)\n",
    "    months.append(date_object.month)\n",
    "    days.append(date_object.day)\n",
    "    print(str(date_object.year) + \"-\" + str(date_object.month) + \"-\" + str(date_object.day))\n",
    "\n",
    "dataframe = pd.DataFrame({\"Month\":months,\"Day\":days,\"Year\":years})\n",
    "dataframe"
   ]
  },
  {
   "cell_type": "markdown",
   "metadata": {},
   "source": [
    "This method is friendlier when there is no discernable distinction between the month and the day, like in January 1st. \n",
    "\n",
    "Dates and times aren't the only type of data that won't be standardized. Sometimes it's other things like Sex or Education. Like in this case:\n"
   ]
  },
  {
   "cell_type": "code",
   "execution_count": 28,
   "metadata": {
    "collapsed": false
   },
   "outputs": [
    {
     "data": {
      "text/html": [
       "<div>\n",
       "<table border=\"1\" class=\"dataframe\">\n",
       "  <thead>\n",
       "    <tr style=\"text-align: right;\">\n",
       "      <th></th>\n",
       "      <th>Education</th>\n",
       "      <th>Full name</th>\n",
       "      <th>Sex</th>\n",
       "    </tr>\n",
       "  </thead>\n",
       "  <tbody>\n",
       "    <tr>\n",
       "      <th>0</th>\n",
       "      <td>Bs</td>\n",
       "      <td>John Corporan</td>\n",
       "      <td>M</td>\n",
       "    </tr>\n",
       "    <tr>\n",
       "      <th>1</th>\n",
       "      <td>Bs</td>\n",
       "      <td>Kate Beckingsale</td>\n",
       "      <td>F</td>\n",
       "    </tr>\n",
       "    <tr>\n",
       "      <th>2</th>\n",
       "      <td>Bachelors</td>\n",
       "      <td>Chuck Norris</td>\n",
       "      <td>1</td>\n",
       "    </tr>\n",
       "    <tr>\n",
       "      <th>3</th>\n",
       "      <td>Ms</td>\n",
       "      <td>Porter, Jessica</td>\n",
       "      <td>f</td>\n",
       "    </tr>\n",
       "    <tr>\n",
       "      <th>4</th>\n",
       "      <td>Phd</td>\n",
       "      <td>Mike Ryans</td>\n",
       "      <td>m</td>\n",
       "    </tr>\n",
       "  </tbody>\n",
       "</table>\n",
       "</div>"
      ],
      "text/plain": [
       "   Education         Full name Sex\n",
       "0         Bs     John Corporan   M\n",
       "1         Bs  Kate Beckingsale   F\n",
       "2  Bachelors      Chuck Norris   1\n",
       "3         Ms   Porter, Jessica   f\n",
       "4        Phd        Mike Ryans   m"
      ]
     },
     "execution_count": 28,
     "metadata": {},
     "output_type": "execute_result"
    }
   ],
   "source": [
    "Names = [\"John Corporan\",\"Kate Beckingsale\",\"Chuck Norris\",\"Porter, Jessica\",\"Mike Ryans\"]\n",
    "Sex = [\"M\",\"F\",1,\"f\",\"m\"]\n",
    "Ed = [\"Bs\",\"Bs\",\"Bachelors\",\"Ms\",\"Phd\"]\n",
    "\n",
    "People = {\"Full name\": Names,\n",
    "          \"Sex\": Sex,\n",
    "          \"Education\": Ed} #Please no discussions on this column.\n",
    "\n",
    "Peopledf = pd.DataFrame(People)\n",
    "Peopledf"
   ]
  },
  {
   "cell_type": "markdown",
   "metadata": {},
   "source": [
    "How would we go standardizing this dataframe? Well that's your exercise now.\n",
    "\n",
    "#### Your turn now.\n",
    "\n",
    "Standardize the people dataframe.  \n",
    "\n",
    "**Hint**: when facing multiple formats of values, you can either standardize to the most common value, or the one that makes the most sense."
   ]
  },
  {
   "cell_type": "code",
   "execution_count": 29,
   "metadata": {
    "collapsed": true
   },
   "outputs": [],
   "source": [
    "#Your code here."
   ]
  },
  {
   "cell_type": "markdown",
   "metadata": {},
   "source": [
    "## Normalizing data. "
   ]
  },
  {
   "cell_type": "markdown",
   "metadata": {},
   "source": [
    "Data normalization is very similar to the previous concept of standarizing data, but with **continous** numerical values. Imagine you have the price of a house and it's living area. If you, as a Data Scientist, are planning to analyze the relationship between these two variables, it would be wiser to bring them both to the same level.  This way you effectively eliminate the unit of measurement that the data is based on, and can compare them eye-to-eye, mano a mano. But, as you'll see in the machine learning notebooks later on, this also means that the errors between values can be brought to more equal levels, as there won't be as many gaps between the values. \n",
    "\n",
    "There are various ways of normalizing data, but I'll show two of them. \n",
    "\n",
    "#### Mean normalization  \n",
    "\n",
    "Or standardization in statistics. This transforms the data in a way that the mean is 0 and the standard deviation is 1. This means the range of the data is now [-n,n] where n is some number, usually a low one. To achieve this normalization, we apply this calculation to each row of the dataset:\n",
    "\n",
    "![title](http://www.statisticshowto.com/wp-content/uploads/2016/11/alternate-z-score.png)\n",
    "\n",
    "Where Xi is the current value of the iterations of the data,  X with the line on top (sorry, I can't even LaTex now) is the mean of the data and s is the standard deviation of the data. Let's see this in action:"
   ]
  },
  {
   "cell_type": "code",
   "execution_count": 34,
   "metadata": {
    "collapsed": false
   },
   "outputs": [
    {
     "name": "stdout",
     "output_type": "stream",
     "text": [
      "   SalePrice  GrLivArea\n",
      "0     208500       1710\n",
      "1     181500       1262\n",
      "2     223500       1786\n",
      "3     140000       1717\n",
      "4     250000       2198\n"
     ]
    },
    {
     "data": {
      "text/html": [
       "<div>\n",
       "<table border=\"1\" class=\"dataframe\">\n",
       "  <thead>\n",
       "    <tr style=\"text-align: right;\">\n",
       "      <th></th>\n",
       "      <th>SalePrice</th>\n",
       "      <th>GrLivArea</th>\n",
       "    </tr>\n",
       "  </thead>\n",
       "  <tbody>\n",
       "    <tr>\n",
       "      <th>0</th>\n",
       "      <td>0.347154</td>\n",
       "      <td>0.370207</td>\n",
       "    </tr>\n",
       "    <tr>\n",
       "      <th>1</th>\n",
       "      <td>0.007286</td>\n",
       "      <td>-0.482347</td>\n",
       "    </tr>\n",
       "    <tr>\n",
       "      <th>2</th>\n",
       "      <td>0.535970</td>\n",
       "      <td>0.514836</td>\n",
       "    </tr>\n",
       "    <tr>\n",
       "      <th>3</th>\n",
       "      <td>-0.515105</td>\n",
       "      <td>0.383528</td>\n",
       "    </tr>\n",
       "    <tr>\n",
       "      <th>4</th>\n",
       "      <td>0.869545</td>\n",
       "      <td>1.298881</td>\n",
       "    </tr>\n",
       "  </tbody>\n",
       "</table>\n",
       "</div>"
      ],
      "text/plain": [
       "   SalePrice  GrLivArea\n",
       "0   0.347154   0.370207\n",
       "1   0.007286  -0.482347\n",
       "2   0.535970   0.514836\n",
       "3  -0.515105   0.383528\n",
       "4   0.869545   1.298881"
      ]
     },
     "execution_count": 34,
     "metadata": {},
     "output_type": "execute_result"
    }
   ],
   "source": [
    "#Read the house data.\n",
    "houses = pd.read_csv(\"Houses.csv\")\n",
    "#Create a copy for later use.\n",
    "House_Copy = houses.copy()\n",
    "\n",
    "def Mean_Normalization(data):\n",
    "    mean = data.mean()\n",
    "    std = data.std()\n",
    "    return data.apply(lambda row: (row-mean)/std)\n",
    "\n",
    "\n",
    "print(houses.head())\n",
    "\n",
    "houses.SalePrice = Mean_Normalization(houses.SalePrice)\n",
    "houses.GrLivArea = Mean_Normalization(houses.GrLivArea)\n",
    "houses.head()"
   ]
  },
  {
   "cell_type": "markdown",
   "metadata": {},
   "source": [
    "See the difference? Now those values that were lower than the mean are negative, and those that were higher than the mean are positive. To prove that it worked, let's re-calculated the mean and standard deviation."
   ]
  },
  {
   "cell_type": "code",
   "execution_count": 35,
   "metadata": {
    "collapsed": false
   },
   "outputs": [
    {
     "name": "stdout",
     "output_type": "stream",
     "text": [
      "1.102998970697801e-16\n",
      "0.9999999999999998\n"
     ]
    }
   ],
   "source": [
    "print(houses.SalePrice.mean())\n",
    "print(houses.SalePrice.std())"
   ]
  },
  {
   "cell_type": "markdown",
   "metadata": {},
   "source": [
    "#### min-max normalization.\n",
    "\n",
    "Also called normalization in statistics. In this case, the values are just concentrated between 0 and 1. The calculation goes like this:\n",
    "\n",
    "![title](http://www.statisticshowto.com/wp-content/uploads/2015/11/normalize-data.png)\n",
    "\n",
    "So for each value in the data, we'll substract it the minimum value of the data, and divide it by the range of the values (Maximum value - minimum value of the data). Again, we can create a function that does this for us:"
   ]
  },
  {
   "cell_type": "code",
   "execution_count": 36,
   "metadata": {
    "collapsed": false
   },
   "outputs": [
    {
     "name": "stdout",
     "output_type": "stream",
     "text": [
      "   SalePrice  GrLivArea\n",
      "0     208500       1710\n",
      "1     181500       1262\n",
      "2     223500       1786\n",
      "3     140000       1717\n",
      "4     250000       2198\n"
     ]
    },
    {
     "data": {
      "text/html": [
       "<div>\n",
       "<table border=\"1\" class=\"dataframe\">\n",
       "  <thead>\n",
       "    <tr style=\"text-align: right;\">\n",
       "      <th></th>\n",
       "      <th>SalePrice</th>\n",
       "      <th>GrLivArea</th>\n",
       "    </tr>\n",
       "  </thead>\n",
       "  <tbody>\n",
       "    <tr>\n",
       "      <th>0</th>\n",
       "      <td>0.241078</td>\n",
       "      <td>0.259231</td>\n",
       "    </tr>\n",
       "    <tr>\n",
       "      <th>1</th>\n",
       "      <td>0.203583</td>\n",
       "      <td>0.174830</td>\n",
       "    </tr>\n",
       "    <tr>\n",
       "      <th>2</th>\n",
       "      <td>0.261908</td>\n",
       "      <td>0.273549</td>\n",
       "    </tr>\n",
       "    <tr>\n",
       "      <th>3</th>\n",
       "      <td>0.145952</td>\n",
       "      <td>0.260550</td>\n",
       "    </tr>\n",
       "    <tr>\n",
       "      <th>4</th>\n",
       "      <td>0.298709</td>\n",
       "      <td>0.351168</td>\n",
       "    </tr>\n",
       "  </tbody>\n",
       "</table>\n",
       "</div>"
      ],
      "text/plain": [
       "   SalePrice  GrLivArea\n",
       "0   0.241078   0.259231\n",
       "1   0.203583   0.174830\n",
       "2   0.261908   0.273549\n",
       "3   0.145952   0.260550\n",
       "4   0.298709   0.351168"
      ]
     },
     "execution_count": 36,
     "metadata": {},
     "output_type": "execute_result"
    }
   ],
   "source": [
    "def MinMax_Normalization(data):\n",
    "    maximum = max(data)\n",
    "    minimum = min(data)\n",
    "    return data.apply(lambda  row: (row-minimum)/(maximum-minimum))\n",
    "\n",
    "print(House_Copy.head())\n",
    "\n",
    "House_Copy.SalePrice = MinMax_Normalization(House_Copy.SalePrice)\n",
    "House_Copy.GrLivArea = MinMax_Normalization(House_Copy.GrLivArea)\n",
    "House_Copy.head()"
   ]
  },
  {
   "cell_type": "markdown",
   "metadata": {},
   "source": [
    "Now all the values are between 0 and 1, kind of like a probability between 0 and 1. Let's calculate the mean and standard deviation of this one."
   ]
  },
  {
   "cell_type": "code",
   "execution_count": 39,
   "metadata": {
    "collapsed": false
   },
   "outputs": [
    {
     "name": "stdout",
     "output_type": "stream",
     "text": [
      "SalePrice    0.202779\n",
      "GrLivArea    0.222582\n",
      "dtype: float64\n",
      "SalePrice    0.110321\n",
      "GrLivArea    0.098998\n",
      "dtype: float64\n"
     ]
    }
   ],
   "source": [
    "print(House_Copy.mean())\n",
    "print(House_Copy.std())"
   ]
  },
  {
   "cell_type": "markdown",
   "metadata": {},
   "source": [
    "So, based on this, most values of the data are on the lower end of the spectrum, near 20% for both. This may mean there are some extremely high values that skew the distribution this way. But look what we found out without even checking all the data!   Just from looking where the mean and standard deviation stand when the values are between 0 and 1. But we'll see easier ways to spot insights later in the visualization chapters.\n",
    "\n",
    "Now, when to use one method over the other? As a rule of thumb, if working with probabilities, go with min-max normalization else go with Mean normalization. However, it's best to test both of them, and see how they affect your predictive model (which we'll see more about later in the machine learning chapters). **However, don't forget to unnormalize your values after you are done with your analysis or about to create predictions!**"
   ]
  },
  {
   "cell_type": "markdown",
   "metadata": {},
   "source": [
    "#### Your turn now.\n",
    "\n",
    "Investigate and apply another normalization method to the house data. How does it affect the data?"
   ]
  },
  {
   "cell_type": "code",
   "execution_count": 40,
   "metadata": {
    "collapsed": true
   },
   "outputs": [],
   "source": [
    "houses = pd.read_csv(\"Houses.csv\")\n",
    "#Your code here.\n",
    "\n"
   ]
  },
  {
   "cell_type": "markdown",
   "metadata": {},
   "source": [
    "*Your analysis here.*"
   ]
  },
  {
   "cell_type": "markdown",
   "metadata": {},
   "source": [
    "## Duplicated values."
   ]
  },
  {
   "cell_type": "markdown",
   "metadata": {},
   "source": [
    "This is a short, but important section. Often, in datasets, we'll find duplicated values that only serve to **hide the truth** from us. Or, rather make our analysis error prone. Usually they are easy to identify, but when working with large datasets, they are harder to find. Thankfully, we have easy ways to deal with duplicated values, like this:"
   ]
  },
  {
   "cell_type": "code",
   "execution_count": 42,
   "metadata": {
    "collapsed": false
   },
   "outputs": [
    {
     "data": {
      "text/html": [
       "<div>\n",
       "<table border=\"1\" class=\"dataframe\">\n",
       "  <thead>\n",
       "    <tr style=\"text-align: right;\">\n",
       "      <th></th>\n",
       "      <th>Education</th>\n",
       "      <th>Full name</th>\n",
       "      <th>Sex</th>\n",
       "    </tr>\n",
       "  </thead>\n",
       "  <tbody>\n",
       "    <tr>\n",
       "      <th>0</th>\n",
       "      <td>Bs</td>\n",
       "      <td>John Corporan</td>\n",
       "      <td>M</td>\n",
       "    </tr>\n",
       "    <tr>\n",
       "      <th>1</th>\n",
       "      <td>Bs</td>\n",
       "      <td>Kate Beckingsale</td>\n",
       "      <td>F</td>\n",
       "    </tr>\n",
       "    <tr>\n",
       "      <th>2</th>\n",
       "      <td>Bachelors</td>\n",
       "      <td>Chuck Norris</td>\n",
       "      <td>1</td>\n",
       "    </tr>\n",
       "    <tr>\n",
       "      <th>3</th>\n",
       "      <td>Ms</td>\n",
       "      <td>Porter, Jessica</td>\n",
       "      <td>f</td>\n",
       "    </tr>\n",
       "    <tr>\n",
       "      <th>4</th>\n",
       "      <td>Phd</td>\n",
       "      <td>Mike Ryans</td>\n",
       "      <td>m</td>\n",
       "    </tr>\n",
       "    <tr>\n",
       "      <th>0</th>\n",
       "      <td>Bs</td>\n",
       "      <td>John Corporan</td>\n",
       "      <td>M</td>\n",
       "    </tr>\n",
       "    <tr>\n",
       "      <th>1</th>\n",
       "      <td>Bs</td>\n",
       "      <td>Kate Beckingsale</td>\n",
       "      <td>F</td>\n",
       "    </tr>\n",
       "    <tr>\n",
       "      <th>2</th>\n",
       "      <td>Bachelors</td>\n",
       "      <td>Chuck Norris</td>\n",
       "      <td>1</td>\n",
       "    </tr>\n",
       "    <tr>\n",
       "      <th>3</th>\n",
       "      <td>Ms</td>\n",
       "      <td>Porter, Jessica</td>\n",
       "      <td>f</td>\n",
       "    </tr>\n",
       "    <tr>\n",
       "      <th>4</th>\n",
       "      <td>Phd</td>\n",
       "      <td>Mike Ryans</td>\n",
       "      <td>m</td>\n",
       "    </tr>\n",
       "  </tbody>\n",
       "</table>\n",
       "</div>"
      ],
      "text/plain": [
       "   Education         Full name Sex\n",
       "0         Bs     John Corporan   M\n",
       "1         Bs  Kate Beckingsale   F\n",
       "2  Bachelors      Chuck Norris   1\n",
       "3         Ms   Porter, Jessica   f\n",
       "4        Phd        Mike Ryans   m\n",
       "0         Bs     John Corporan   M\n",
       "1         Bs  Kate Beckingsale   F\n",
       "2  Bachelors      Chuck Norris   1\n",
       "3         Ms   Porter, Jessica   f\n",
       "4        Phd        Mike Ryans   m"
      ]
     },
     "execution_count": 42,
     "metadata": {},
     "output_type": "execute_result"
    }
   ],
   "source": [
    "People_copy = Peopledf.copy() #Copy the people dataframe you so gratiously cleaned earlier.\n",
    "\n",
    "#Create a list with the copy and the original.\n",
    "peeps = [Peopledf,People_copy]\n",
    "\n",
    "#Append one to the end of the other.\n",
    "\n",
    "merged = pd.concat(peeps)\n",
    "merged"
   ]
  },
  {
   "cell_type": "markdown",
   "metadata": {},
   "source": [
    "Now we have created a monster! But it's fairly easy to kill when it's weak like this. We just need to use the **drop_duplicates** function that pandas gives us for free:"
   ]
  },
  {
   "cell_type": "code",
   "execution_count": 43,
   "metadata": {
    "collapsed": false
   },
   "outputs": [
    {
     "data": {
      "text/html": [
       "<div>\n",
       "<table border=\"1\" class=\"dataframe\">\n",
       "  <thead>\n",
       "    <tr style=\"text-align: right;\">\n",
       "      <th></th>\n",
       "      <th>Education</th>\n",
       "      <th>Full name</th>\n",
       "      <th>Sex</th>\n",
       "    </tr>\n",
       "  </thead>\n",
       "  <tbody>\n",
       "    <tr>\n",
       "      <th>0</th>\n",
       "      <td>Bs</td>\n",
       "      <td>John Corporan</td>\n",
       "      <td>M</td>\n",
       "    </tr>\n",
       "    <tr>\n",
       "      <th>1</th>\n",
       "      <td>Bs</td>\n",
       "      <td>Kate Beckingsale</td>\n",
       "      <td>F</td>\n",
       "    </tr>\n",
       "    <tr>\n",
       "      <th>2</th>\n",
       "      <td>Bachelors</td>\n",
       "      <td>Chuck Norris</td>\n",
       "      <td>1</td>\n",
       "    </tr>\n",
       "    <tr>\n",
       "      <th>3</th>\n",
       "      <td>Ms</td>\n",
       "      <td>Porter, Jessica</td>\n",
       "      <td>f</td>\n",
       "    </tr>\n",
       "    <tr>\n",
       "      <th>4</th>\n",
       "      <td>Phd</td>\n",
       "      <td>Mike Ryans</td>\n",
       "      <td>m</td>\n",
       "    </tr>\n",
       "  </tbody>\n",
       "</table>\n",
       "</div>"
      ],
      "text/plain": [
       "   Education         Full name Sex\n",
       "0         Bs     John Corporan   M\n",
       "1         Bs  Kate Beckingsale   F\n",
       "2  Bachelors      Chuck Norris   1\n",
       "3         Ms   Porter, Jessica   f\n",
       "4        Phd        Mike Ryans   m"
      ]
     },
     "execution_count": 43,
     "metadata": {},
     "output_type": "execute_result"
    }
   ],
   "source": [
    "un_merged = merged.drop_duplicates()\n",
    "un_merged"
   ]
  },
  {
   "cell_type": "markdown",
   "metadata": {},
   "source": [
    "Yes, it's that easy. **However**, there's a catch. When working with a lot of columns, sometimes a duplicate value may go unnoticed."
   ]
  },
  {
   "cell_type": "code",
   "execution_count": 50,
   "metadata": {
    "collapsed": false
   },
   "outputs": [
    {
     "name": "stderr",
     "output_type": "stream",
     "text": [
      "C:\\Users\\jununez\\AppData\\Local\\Continuum\\Anaconda3\\lib\\site-packages\\pandas\\core\\indexing.py:141: SettingWithCopyWarning: \n",
      "A value is trying to be set on a copy of a slice from a DataFrame\n",
      "\n",
      "See the caveats in the documentation: http://pandas.pydata.org/pandas-docs/stable/indexing.html#indexing-view-versus-copy\n",
      "  self._setitem_with_indexer(indexer, value)\n",
      "C:\\Users\\jununez\\AppData\\Local\\Continuum\\Anaconda3\\lib\\site-packages\\ipykernel\\__main__.py:4: SettingWithCopyWarning: \n",
      "A value is trying to be set on a copy of a slice from a DataFrame\n",
      "\n",
      "See the caveats in the documentation: http://pandas.pydata.org/pandas-docs/stable/indexing.html#indexing-view-versus-copy\n"
     ]
    },
    {
     "data": {
      "text/html": [
       "<div>\n",
       "<table border=\"1\" class=\"dataframe\">\n",
       "  <thead>\n",
       "    <tr style=\"text-align: right;\">\n",
       "      <th></th>\n",
       "      <th>Education</th>\n",
       "      <th>Full name</th>\n",
       "      <th>Sex</th>\n",
       "    </tr>\n",
       "  </thead>\n",
       "  <tbody>\n",
       "    <tr>\n",
       "      <th>0</th>\n",
       "      <td>Bs</td>\n",
       "      <td>John Corporan</td>\n",
       "      <td>M</td>\n",
       "    </tr>\n",
       "    <tr>\n",
       "      <th>1</th>\n",
       "      <td>Bs</td>\n",
       "      <td>Kate Beckingsale</td>\n",
       "      <td>F</td>\n",
       "    </tr>\n",
       "    <tr>\n",
       "      <th>2</th>\n",
       "      <td>Bachelors</td>\n",
       "      <td>Chuck Norris</td>\n",
       "      <td>1</td>\n",
       "    </tr>\n",
       "    <tr>\n",
       "      <th>3</th>\n",
       "      <td>Ms</td>\n",
       "      <td>Porter, Jessica</td>\n",
       "      <td>f</td>\n",
       "    </tr>\n",
       "    <tr>\n",
       "      <th>4</th>\n",
       "      <td>Phd</td>\n",
       "      <td>Mike Ryans</td>\n",
       "      <td>m</td>\n",
       "    </tr>\n",
       "    <tr>\n",
       "      <th>5</th>\n",
       "      <td>PhD</td>\n",
       "      <td>Mike Ryans</td>\n",
       "      <td>m</td>\n",
       "    </tr>\n",
       "  </tbody>\n",
       "</table>\n",
       "</div>"
      ],
      "text/plain": [
       "   Education         Full name Sex\n",
       "0         Bs     John Corporan   M\n",
       "1         Bs  Kate Beckingsale   F\n",
       "2  Bachelors      Chuck Norris   1\n",
       "3         Ms   Porter, Jessica   f\n",
       "4        Phd        Mike Ryans   m\n",
       "5        PhD        Mike Ryans   m"
      ]
     },
     "execution_count": 50,
     "metadata": {},
     "output_type": "execute_result"
    }
   ],
   "source": [
    "#Create a clone of mike ryans to confuse us.\n",
    "Mikes_Clone = [\"PhD\",\"Mike Ryans\",\"m\"]\n",
    "#Add it to the dataframe.\n",
    "un_merged.loc[5] = Mikes_Clone\n",
    "un_merged"
   ]
  },
  {
   "cell_type": "markdown",
   "metadata": {},
   "source": [
    "Now, if you find yourself in this situation, you have to analyze all the columns, and not simply come to the conclusion that it's a duplicate value. Find the index or some IDs in the dataset, and compare the values between the duplicates. If there is something of value that differentiates them, then it's not a duplicate. "
   ]
  },
  {
   "cell_type": "markdown",
   "metadata": {},
   "source": [
    "## Exercise."
   ]
  },
  {
   "cell_type": "markdown",
   "metadata": {},
   "source": [
    "Clean the AirBnB dataset( To be added)."
   ]
  },
  {
   "cell_type": "code",
   "execution_count": null,
   "metadata": {
    "collapsed": true
   },
   "outputs": [],
   "source": []
  }
 ],
 "metadata": {
  "kernelspec": {
   "display_name": "Python 3",
   "language": "python",
   "name": "python3"
  },
  "language_info": {
   "codemirror_mode": {
    "name": "ipython",
    "version": 3
   },
   "file_extension": ".py",
   "mimetype": "text/x-python",
   "name": "python",
   "nbconvert_exporter": "python",
   "pygments_lexer": "ipython3",
   "version": "3.6.0"
  }
 },
 "nbformat": 4,
 "nbformat_minor": 2
}
