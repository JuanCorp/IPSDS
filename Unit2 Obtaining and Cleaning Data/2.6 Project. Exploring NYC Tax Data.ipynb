{
 "cells": [
  {
   "cell_type": "markdown",
   "metadata": {},
   "source": [
    "![title](http://brokelyn.com/wp-content/uploads/2013/08/Screen-Shot-2013-08-09-at-12.57.15-PM-440x404.png)"
   ]
  },
  {
   "cell_type": "markdown",
   "metadata": {},
   "source": [
    "Welcome to the project of Unit 2! This time around, you'll be using some of what you learned of this chapter to improve your skills in working with data. This project is similar to the first one, but now you are better, faster, stronger (right?). This time around, we'll be working with tax data of New York City, obtained gratiously from here: http://chriswhong.com/open-data/liberating-data-from-nyc-property-tax-bills/ (thanks Chris Whong!). There's a lot of open data in the Planetary Stretching Network, or World Wide Web for humans, so if you are trying to do your own project and need related data, there's a chance someone already has it. But you also know how to get it yourself if needed ;) . To get started, let's first read the data."
   ]
  },
  {
   "cell_type": "code",
   "execution_count": 1,
   "metadata": {
    "collapsed": false
   },
   "outputs": [
    {
     "data": {
      "text/html": [
       "<div>\n",
       "<table border=\"1\" class=\"dataframe\">\n",
       "  <thead>\n",
       "    <tr style=\"text-align: right;\">\n",
       "      <th></th>\n",
       "      <th>bbl</th>\n",
       "      <th>ownername</th>\n",
       "      <th>address</th>\n",
       "      <th>taxclass</th>\n",
       "      <th>taxrate</th>\n",
       "      <th>emv</th>\n",
       "      <th>tbea</th>\n",
       "      <th>bav</th>\n",
       "      <th>tba</th>\n",
       "      <th>propertytax</th>\n",
       "      <th>condonumber</th>\n",
       "      <th>condo</th>\n",
       "    </tr>\n",
       "  </thead>\n",
       "  <tbody>\n",
       "    <tr>\n",
       "      <th>0</th>\n",
       "      <td>1000010010</td>\n",
       "      <td>GOVERNORS ISLAND CORPORATION</td>\n",
       "      <td>GOVERNORS ISLAND CORPORATION\\nC/O TRUST FOR. G...</td>\n",
       "      <td>4 - commercial property</td>\n",
       "      <td>10.6840%</td>\n",
       "      <td>337672000.0</td>\n",
       "      <td>15749050.0</td>\n",
       "      <td>147407802.0</td>\n",
       "      <td>NaN</td>\n",
       "      <td>0.0</td>\n",
       "      <td>NaN</td>\n",
       "      <td>NaN</td>\n",
       "    </tr>\n",
       "    <tr>\n",
       "      <th>1</th>\n",
       "      <td>1000010101</td>\n",
       "      <td>U. S. GOVT LAND &amp; BLDGS</td>\n",
       "      <td>BEDLOES ISLAND\\n1 LIBERTY ISLAND\\nELLIS ISLAND,</td>\n",
       "      <td>4 - commercial property</td>\n",
       "      <td>10.6840%</td>\n",
       "      <td>25607000.0</td>\n",
       "      <td>1106496.0</td>\n",
       "      <td>10356570.0</td>\n",
       "      <td>NaN</td>\n",
       "      <td>0.0</td>\n",
       "      <td>NaN</td>\n",
       "      <td>NaN</td>\n",
       "    </tr>\n",
       "    <tr>\n",
       "      <th>2</th>\n",
       "      <td>1000010201</td>\n",
       "      <td>U. S. GOVT LAND &amp; BLDGS</td>\n",
       "      <td>ELLIS ISLAND\\n1 LIBERTY ISLAND\\nELLIS ISLAND,</td>\n",
       "      <td>4 - commercial property</td>\n",
       "      <td>10.6840%</td>\n",
       "      <td>233982000.0</td>\n",
       "      <td>10366655.0</td>\n",
       "      <td>97029720.0</td>\n",
       "      <td>NaN</td>\n",
       "      <td>0.0</td>\n",
       "      <td>NaN</td>\n",
       "      <td>NaN</td>\n",
       "    </tr>\n",
       "    <tr>\n",
       "      <th>3</th>\n",
       "      <td>1000020001</td>\n",
       "      <td>NYC DSBS</td>\n",
       "      <td>NYC DSBS\\n110 WILLIAM ST. FL. 7\\nNEW YORK , NY...</td>\n",
       "      <td>4 - commercial property</td>\n",
       "      <td>10.6840%</td>\n",
       "      <td>69458000.0</td>\n",
       "      <td>3163690.0</td>\n",
       "      <td>29611473.0</td>\n",
       "      <td>NaN</td>\n",
       "      <td>0.0</td>\n",
       "      <td>NaN</td>\n",
       "      <td>NaN</td>\n",
       "    </tr>\n",
       "    <tr>\n",
       "      <th>4</th>\n",
       "      <td>1000020002</td>\n",
       "      <td>10 SSA LANDLORD, LLC</td>\n",
       "      <td>10 SSA LANDLORD, LLC\\n729 7TH AVE. FL. 15\\nNEW...</td>\n",
       "      <td>4 - commercial property</td>\n",
       "      <td>10.6840%</td>\n",
       "      <td>55592000.0</td>\n",
       "      <td>2672762.0</td>\n",
       "      <td>25016491.0</td>\n",
       "      <td>654246.0</td>\n",
       "      <td>654246.0</td>\n",
       "      <td>NaN</td>\n",
       "      <td>NaN</td>\n",
       "    </tr>\n",
       "  </tbody>\n",
       "</table>\n",
       "</div>"
      ],
      "text/plain": [
       "          bbl                     ownername  \\\n",
       "0  1000010010  GOVERNORS ISLAND CORPORATION   \n",
       "1  1000010101       U. S. GOVT LAND & BLDGS   \n",
       "2  1000010201       U. S. GOVT LAND & BLDGS   \n",
       "3  1000020001                      NYC DSBS   \n",
       "4  1000020002          10 SSA LANDLORD, LLC   \n",
       "\n",
       "                                             address                 taxclass  \\\n",
       "0  GOVERNORS ISLAND CORPORATION\\nC/O TRUST FOR. G...  4 - commercial property   \n",
       "1    BEDLOES ISLAND\\n1 LIBERTY ISLAND\\nELLIS ISLAND,  4 - commercial property   \n",
       "2      ELLIS ISLAND\\n1 LIBERTY ISLAND\\nELLIS ISLAND,  4 - commercial property   \n",
       "3  NYC DSBS\\n110 WILLIAM ST. FL. 7\\nNEW YORK , NY...  4 - commercial property   \n",
       "4  10 SSA LANDLORD, LLC\\n729 7TH AVE. FL. 15\\nNEW...  4 - commercial property   \n",
       "\n",
       "    taxrate          emv        tbea          bav       tba  propertytax  \\\n",
       "0  10.6840%  337672000.0  15749050.0  147407802.0       NaN          0.0   \n",
       "1  10.6840%   25607000.0   1106496.0   10356570.0       NaN          0.0   \n",
       "2  10.6840%  233982000.0  10366655.0   97029720.0       NaN          0.0   \n",
       "3  10.6840%   69458000.0   3163690.0   29611473.0       NaN          0.0   \n",
       "4  10.6840%   55592000.0   2672762.0   25016491.0  654246.0     654246.0   \n",
       "\n",
       "   condonumber condo  \n",
       "0          NaN   NaN  \n",
       "1          NaN   NaN  \n",
       "2          NaN   NaN  \n",
       "3          NaN   NaN  \n",
       "4          NaN   NaN  "
      ]
     },
     "execution_count": 1,
     "metadata": {},
     "output_type": "execute_result"
    }
   ],
   "source": [
    "import pandas as pd\n",
    "nyc_tax = pd.read_csv(\"tax_bills_june15_bbls.csv\")\n",
    "nyc_tax.head()"
   ]
  },
  {
   "cell_type": "markdown",
   "metadata": {},
   "source": [
    "Right of the bat, we see some things that could be improved. Some tasks you could do on this project include: \n",
    "\n",
    "- Cleaning the special characters from the address column\n",
    "- Standarizing the taxclass column by removing the number. \n",
    "- Converting taxrate from a character to an decimal number. \n",
    "- Working with the data that is missing. \n",
    "- Create new features based on the existing ones.\n",
    "- Write about some insights that you find on the dataset.\n",
    "- Any other process you would like to do!\n",
    "\n",
    "The only limit is your imagination."
   ]
  },
  {
   "cell_type": "code",
   "execution_count": 2,
   "metadata": {
    "collapsed": true
   },
   "outputs": [],
   "source": [
    "#Your cells and any other analysis below."
   ]
  },
  {
   "cell_type": "code",
   "execution_count": null,
   "metadata": {
    "collapsed": true
   },
   "outputs": [],
   "source": []
  }
 ],
 "metadata": {
  "kernelspec": {
   "display_name": "Python 3",
   "language": "python",
   "name": "python3"
  },
  "language_info": {
   "codemirror_mode": {
    "name": "ipython",
    "version": 3
   },
   "file_extension": ".py",
   "mimetype": "text/x-python",
   "name": "python",
   "nbconvert_exporter": "python",
   "pygments_lexer": "ipython3",
   "version": "3.6.0"
  }
 },
 "nbformat": 4,
 "nbformat_minor": 2
}
