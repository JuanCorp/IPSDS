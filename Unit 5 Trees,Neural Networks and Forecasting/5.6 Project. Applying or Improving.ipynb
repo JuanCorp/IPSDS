{
 "cells": [
  {
   "cell_type": "markdown",
   "metadata": {},
   "source": [
    "![title](https://littleml.files.wordpress.com/2016/07/gradient_boosting-ok.png?w=497&h=418)"
   ]
  },
  {
   "cell_type": "markdown",
   "metadata": {},
   "source": [
    "In this unit, you've seen more advanced and robust models for predictive learning. Hopefully you've also picked up on some differences between them as well:\n",
    "\n",
    "- Logistic/Linear regression are very interpretable. They give you the direction and magnitude a feature has towards prediction in the form of the model coefficients.\n",
    "\n",
    "- Tree based models give you a good idea of which features are important for prediction, in the form of the splits.\n",
    "\n",
    "- Neural networks are very robust, but are more like black boxes. Data goes in, output goes out. Like in the example where the neural network would predict  0 or 1 based on which pixel was black at the end.\n",
    "\n",
    "\n",
    "So sometimes you have to make compromises on interpretability vs. robustness. Choosing the right model for your data isn't a straightforward process, even when knowing the math. Even if you are sure that X model would work really well for Y data, test out whatever you can! For this unit's project, you may do one of the following, or both:\n",
    "\n",
    "- Improve the previous implementations of the models we've seen so far (trees need some work for example!). \n",
    "\n",
    "- Apply the models learned on this chapter on datasets. See into Kaggle competitions, or the UCI machine learning repository: https://archive.ics.uci.edu/ml/datasets.html. Focusing mostly on the modeling part (cross validation, model selection, bias/variance tradeoff)\n",
    "\n",
    "Most of all, have fun! Pick topics that are of most interest to you, and see how far you can go."
   ]
  },
  {
   "cell_type": "code",
   "execution_count": null,
   "metadata": {
    "collapsed": true
   },
   "outputs": [],
   "source": []
  }
 ],
 "metadata": {
  "kernelspec": {
   "display_name": "Python 3",
   "language": "python",
   "name": "python3"
  },
  "language_info": {
   "codemirror_mode": {
    "name": "ipython",
    "version": 3
   },
   "file_extension": ".py",
   "mimetype": "text/x-python",
   "name": "python",
   "nbconvert_exporter": "python",
   "pygments_lexer": "ipython3",
   "version": "3.6.0"
  }
 },
 "nbformat": 4,
 "nbformat_minor": 2
}
