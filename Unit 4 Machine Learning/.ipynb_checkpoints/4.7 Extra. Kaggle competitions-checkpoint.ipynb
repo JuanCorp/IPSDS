{
 "cells": [
  {
   "cell_type": "markdown",
   "metadata": {},
   "source": [
    "![title](https://www.kaggle.com/content/v/6e70930bb5cf/kaggle/img/logos/kaggle-logo-gray-300.png)"
   ]
  },
  {
   "cell_type": "markdown",
   "metadata": {},
   "source": [
    "One useful site for all aspiring and current data scientists is https://www.kaggle.com/, which contains a lot of useful stuff like:\n",
    "\n",
    "- Competitions: where you are presented with a problem, data related to it and are tasked to build a model that tops all others! Competitions are great for learning (and even to put in a CV!), so I highly recommend them. But don't get too addicted to them, it's better to be good at ML than good at Kaggle.\n",
    "\n",
    "- Datasets: There's a huge amount of varied datasets, a lot of them are even user uploaded! So if are looking for data to start a project, or just want to run an analysis, kaggle is also great.\n",
    "\n",
    "- Kernels: You could be running this jupyter notebook over there on kaggle! They have notebooks and regular script pages running with a huge amount of Data Science and Machine Learning libraries, which are great if you are stuck at work (unless the firewall blocks you).\n",
    "\n",
    "- Community: There's a huge community of friendly and helpful users, and a lot of them share their knowledge, best practices and procedures here.\n",
    "\n",
    "\n",
    "Try entering a competition, like the beginner Titanic one (I'm sure you are familiar with this data ;) )! \n",
    "\n",
    "https://www.kaggle.com/c/titanic"
   ]
  },
  {
   "cell_type": "code",
   "execution_count": null,
   "metadata": {
    "collapsed": true
   },
   "outputs": [],
   "source": []
  }
 ],
 "metadata": {
  "kernelspec": {
   "display_name": "Python 3",
   "language": "python",
   "name": "python3"
  },
  "language_info": {
   "codemirror_mode": {
    "name": "ipython",
    "version": 3
   },
   "file_extension": ".py",
   "mimetype": "text/x-python",
   "name": "python",
   "nbconvert_exporter": "python",
   "pygments_lexer": "ipython3",
   "version": "3.6.1"
  }
 },
 "nbformat": 4,
 "nbformat_minor": 2
}
