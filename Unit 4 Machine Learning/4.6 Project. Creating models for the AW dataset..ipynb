{
 "cells": [
  {
   "cell_type": "markdown",
   "metadata": {},
   "source": [
    "![title](http://www.eugris.info/content/Content_Digests/PredictiveModelling-Dateien279/IMAGE002.JPG)"
   ]
  },
  {
   "cell_type": "markdown",
   "metadata": {},
   "source": [
    "For this unit's project, you'll build a predictive model for the AW dataset, which contains information about customers and their monthly expenditures on the shop, as well as if they will rent in this month or not. There will be two datasets, training, which contains all features and test which contains all features except the two target variables. \n",
    "\n",
    "To elaborate on this process you should:\n",
    "\n",
    "- Clean the dataset from missing data or duplicated columns.\n",
    "- Use feature engineering to create new relevant features.\n",
    "- Use visualizations to help you better understand the relationships between the features.\n",
    "- Create a model for the target variables.\n",
    "- Optimize the model.\n",
    "- Repeat all steps, if necessary.\n",
    "\n",
    "Have fun!"
   ]
  },
  {
   "cell_type": "code",
   "execution_count": null,
   "metadata": {
    "collapsed": true
   },
   "outputs": [],
   "source": [
    "import pandas as pd\n",
    "\n",
    "train = pd.read_csv(\"train.csv\")\n",
    "test = pd.read_csv(\"test.csv\")\n"
   ]
  }
 ],
 "metadata": {
  "kernelspec": {
   "display_name": "Python 3",
   "language": "python",
   "name": "python3"
  },
  "language_info": {
   "codemirror_mode": {
    "name": "ipython",
    "version": 3
   },
   "file_extension": ".py",
   "mimetype": "text/x-python",
   "name": "python",
   "nbconvert_exporter": "python",
   "pygments_lexer": "ipython3",
   "version": "3.6.0"
  }
 },
 "nbformat": 4,
 "nbformat_minor": 2
}
