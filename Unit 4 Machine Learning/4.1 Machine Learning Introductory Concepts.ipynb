{
 "cells": [
  {
   "cell_type": "markdown",
   "metadata": {},
   "source": [
    "![title](https://tctechcrunch2011.files.wordpress.com/2015/02/shutterstock_175625024.jpg)"
   ]
  },
  {
   "cell_type": "markdown",
   "metadata": {},
   "source": [
    "Machine learning is often defined as ** the ability for computers to learn without being explicitly programmed **. I personally prefer the definition that is given by Tom Mitchell: \" A computer program is said to learn from experience E with respect to some class of tasks T and performance measure P if its performance at tasks in T, as measured by P, improves with experience E\". In our terms:\n",
    "\n",
    "- E is the data that we have, each row being an \"experience\".\n",
    "- P is the \"accuracy\" of the program, or how close the program was to the right answer. There are multiple ways to gauge its performance, which we'll see later on.\n",
    "\n",
    "But what is T? "
   ]
  },
  {
   "cell_type": "markdown",
   "metadata": {
    "collapsed": true
   },
   "source": [
    "### T depending on the learning type.\n",
    "\n",
    "#### Supervised Learning\n",
    "\n",
    "In supervised learning, the program is given a set of inputs, usually in the form of a table or matrix, and  a label that corresponds to the previous inputs. The goal of the program is to establish a relationship between the inputs and the labels, in such a way that if presented with new inputs, the correct label can be predicted for each input. This relationship usually comes in the form of a mathematical function, be it linear or non-linear, in which the result of the function is the predicted label, and the parameters are the inputs. ** This is the most common machine learning task by far in the industry.**\n",
    "\n",
    "#### Unsupervised Learning\n",
    "\n",
    "In unsupervised learning, the program is given a set of inputs, also in the form of a matrix, but this time without a label to form a relationship with the inputs. The goal this time is to find how the inputs themselves are structured, in order to find similarities and differences between the inputs.\n",
    "\n",
    "#### Reinforcement Learning.\n",
    "\n",
    "In reinforcement learning, the program is given a goal to reach and an environment to interact with. For each interaction the program is either rewarded or punished based on its action. The program also remembers the chains of actions it has taken. The goal for the program is to reach the goal while maximizing rewards or minimizing punishments, and find which chain of actions lead to this goal with relatively few steps.\n",
    "\n",
    "There are more types of learning out there like, but most are either novel or not used in these notebooks. In fact, reinforcement learning isn't used in these notebooks as well, but it still gets a mention.\n",
    "\n",
    "\n",
    "### T depending on the desired output.\n",
    "\n",
    "#### Classification\n",
    "\n",
    "In classification, the program is given a set of inputs and a label with finite types. The goal of  the program is to associate each input with a specific type, depending on the information of the input and the layers themselves. If the label has only two types, like yes or no, then it's a **binary** classification problem. If there's more than two types then it's a **multi-class** classification problem. For example, given a set of information of travellers in an airline flight, the program is tasked to classify whether a passenger was first class, second class or third class. \n",
    "\n",
    "#### Regression \n",
    "\n",
    "In regression, the program is given a set of inputs and a numerical continous label. The goal of the program is to associate a number to each input. One common example of this type of problem is: given a set of information of houses and their selling prices, predict the selling price of new houses. \n",
    "\n",
    "#### Clustering\n",
    "\n",
    "In clustering, the program is given a set of inputs and nothing else. The goal of the program is to separate the inputs into \"clusters\" where similar inputs are grouped together. Then, we can assign personal labels to each cluster based on our understanding of the data. One example of this is grouping similar customers together based on their purchasing habits.\n",
    "\n",
    "\n",
    "Some other types of problems include recommendation systems and text/speech recognition and understanding."
   ]
  },
  {
   "cell_type": "markdown",
   "metadata": {},
   "source": [
    "### Now your turn\n",
    "\n",
    "Based on the information of T based on the desired output answer, edit this markdown cell.\n",
    "\n",
    "\n",
    "Classification and Regression use which type of learning?\n",
    "\n",
    "*Answer here*\n",
    "\n",
    "Clustering uses which type of learning?\n",
    "\n",
    "*Answer here*"
   ]
  },
  {
   "cell_type": "markdown",
   "metadata": {},
   "source": [
    "## Some important real world products that use machine learning"
   ]
  },
  {
   "cell_type": "markdown",
   "metadata": {},
   "source": [
    "### Outlook and other Mail services: Spam classification and filtering\n",
    "\n",
    "![title](https://www.microsoft.com/en-us/outlook-com/img/icon-outlook-05e1d7586a.svg)\n",
    "\n",
    "\n",
    "###  Zillow home value prediction\n",
    "\n",
    "![title](http://realtybiznews.com/wp-content/uploads/2015/12/zillow-logo.jpg)\n",
    "\n",
    "\n",
    "### Medical Diagnosis\n",
    "\n",
    "![title](https://qph.ec.quoracdn.net/main-qimg-5ef949fab2336dd604ff5c566ae9dc78-c)\n",
    "\n",
    "### Netflix Recommendations\n",
    "\n",
    "![title](http://images.hellogiggles.com/uploads/2016/02/19031310/shutterstock_245021518-700x525.jpg)\n",
    "\n",
    "### Google Search Results\n",
    "\n",
    "![title](https://storage.googleapis.com/gweb-uniblog-publish-prod/static/blog/images/google-200x200.7714256da16f.png) \n",
    "\n",
    "\n",
    "And many more. A lot of very popular websites and products use machine learning nowadays. Try finding some more for yourself! \n",
    "\n",
    "\n"
   ]
  },
  {
   "cell_type": "code",
   "execution_count": null,
   "metadata": {
    "collapsed": true
   },
   "outputs": [],
   "source": []
  }
 ],
 "metadata": {
  "kernelspec": {
   "display_name": "Python 3",
   "language": "python",
   "name": "python3"
  },
  "language_info": {
   "codemirror_mode": {
    "name": "ipython",
    "version": 3
   },
   "file_extension": ".py",
   "mimetype": "text/x-python",
   "name": "python",
   "nbconvert_exporter": "python",
   "pygments_lexer": "ipython3",
   "version": "3.6.1"
  }
 },
 "nbformat": 4,
 "nbformat_minor": 2
}
